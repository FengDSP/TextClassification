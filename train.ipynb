{
 "cells": [
  {
   "cell_type": "code",
   "execution_count": null,
   "metadata": {},
   "outputs": [],
   "source": [
    "!pip install torch transformers matplotlib"
   ]
  },
  {
   "cell_type": "code",
   "execution_count": 3,
   "metadata": {},
   "outputs": [
    {
     "name": "stderr",
     "output_type": "stream",
     "text": [
      "/usr/local/lib/python3.8/dist-packages/tqdm/auto.py:21: TqdmWarning: IProgress not found. Please update jupyter and ipywidgets. See https://ipywidgets.readthedocs.io/en/stable/user_install.html\n",
      "  from .autonotebook import tqdm as notebook_tqdm\n"
     ]
    }
   ],
   "source": [
    "import pandas as pd\n",
    "import time\n",
    "import torch\n",
    "from torch import nn\n",
    "from collections import defaultdict\n",
    "from matplotlib import pyplot as plt\n",
    "\n",
    "from transformers import BertTokenizer"
   ]
  },
  {
   "cell_type": "code",
   "execution_count": 4,
   "metadata": {},
   "outputs": [],
   "source": [
    "# First download the dataset from https://www.kaggle.com/datasets/asaniczka/product-titles-text-classification\n",
    "TITLES_TO_CATEGORIES_CSV = './titles_to_categories.csv'"
   ]
  },
  {
   "cell_type": "code",
   "execution_count": 5,
   "metadata": {},
   "outputs": [],
   "source": [
    "df = pd.read_csv(TITLES_TO_CATEGORIES_CSV)"
   ]
  },
  {
   "cell_type": "code",
   "execution_count": 6,
   "metadata": {},
   "outputs": [
    {
     "data": {
      "text/html": [
       "<div>\n",
       "<style scoped>\n",
       "    .dataframe tbody tr th:only-of-type {\n",
       "        vertical-align: middle;\n",
       "    }\n",
       "\n",
       "    .dataframe tbody tr th {\n",
       "        vertical-align: top;\n",
       "    }\n",
       "\n",
       "    .dataframe thead th {\n",
       "        text-align: right;\n",
       "    }\n",
       "</style>\n",
       "<table border=\"1\" class=\"dataframe\">\n",
       "  <thead>\n",
       "    <tr style=\"text-align: right;\">\n",
       "      <th></th>\n",
       "      <th>title</th>\n",
       "      <th>category_name</th>\n",
       "    </tr>\n",
       "  </thead>\n",
       "  <tbody>\n",
       "    <tr>\n",
       "      <th>0</th>\n",
       "      <td>Green Leaf WW3D Wonder Extension Cord Winder, ...</td>\n",
       "      <td>Industrial  Scientific</td>\n",
       "    </tr>\n",
       "    <tr>\n",
       "      <th>1</th>\n",
       "      <td>8pcs Toilet Seat Bumpers Universal Toilet Repl...</td>\n",
       "      <td>Industrial  Scientific</td>\n",
       "    </tr>\n",
       "    <tr>\n",
       "      <th>2</th>\n",
       "      <td>YaeCCC 19 Pcs Hole Saw Kit 3/4''(19mm)- 6''(15...</td>\n",
       "      <td>Industrial  Scientific</td>\n",
       "    </tr>\n",
       "    <tr>\n",
       "      <th>3</th>\n",
       "      <td>LLPT Butyl Putty Tape White 1 Inch x 33Ft Tigh...</td>\n",
       "      <td>Industrial  Scientific</td>\n",
       "    </tr>\n",
       "    <tr>\n",
       "      <th>4</th>\n",
       "      <td>Lightbeam 16\" Long Stem Deep Fry Thermometer w...</td>\n",
       "      <td>Industrial  Scientific</td>\n",
       "    </tr>\n",
       "  </tbody>\n",
       "</table>\n",
       "</div>"
      ],
      "text/plain": [
       "                                               title           category_name\n",
       "0  Green Leaf WW3D Wonder Extension Cord Winder, ...  Industrial  Scientific\n",
       "1  8pcs Toilet Seat Bumpers Universal Toilet Repl...  Industrial  Scientific\n",
       "2  YaeCCC 19 Pcs Hole Saw Kit 3/4''(19mm)- 6''(15...  Industrial  Scientific\n",
       "3  LLPT Butyl Putty Tape White 1 Inch x 33Ft Tigh...  Industrial  Scientific\n",
       "4  Lightbeam 16\" Long Stem Deep Fry Thermometer w...  Industrial  Scientific"
      ]
     },
     "execution_count": 6,
     "metadata": {},
     "output_type": "execute_result"
    }
   ],
   "source": [
    "df.head()"
   ]
  },
  {
   "cell_type": "code",
   "execution_count": 7,
   "metadata": {},
   "outputs": [],
   "source": [
    "# Debugging\n",
    "df = df.sample(frac=0.1).reset_index(drop=True)"
   ]
  },
  {
   "cell_type": "code",
   "execution_count": 8,
   "metadata": {},
   "outputs": [
    {
     "data": {
      "text/plain": [
       "538990"
      ]
     },
     "execution_count": 8,
     "metadata": {},
     "output_type": "execute_result"
    }
   ],
   "source": [
    "len(df)"
   ]
  },
  {
   "cell_type": "code",
   "execution_count": 9,
   "metadata": {},
   "outputs": [
    {
     "data": {
      "text/plain": [
       "category_name\n",
       "Sports & Outdoors              72251\n",
       "Baby                            3723\n",
       "Men's Shoes                     3240\n",
       "Women's Handbags                2907\n",
       "Handmade Jewellery              2845\n",
       "                               ...  \n",
       "Automotive Tires  Wheels        1014\n",
       "Arts  Crafts Supplies           1003\n",
       "RV Parts  Accessories           1000\n",
       "Building  Construction Toys      991\n",
       "Dolls  Accessories               974\n",
       "Name: count, Length: 100, dtype: int64"
      ]
     },
     "execution_count": 9,
     "metadata": {},
     "output_type": "execute_result"
    }
   ],
   "source": [
    "df['category_name'].value_counts()[:100]"
   ]
  },
  {
   "cell_type": "code",
   "execution_count": 10,
   "metadata": {},
   "outputs": [
    {
     "name": "stdout",
     "output_type": "stream",
     "text": [
      "Number of categories: 726\n"
     ]
    },
    {
     "data": {
      "text/plain": [
       "array(['Satellite Television Equipment',\n",
       "       'Slot Cars, Race Tracks & Accessories', 'Boating  Watersports',\n",
       "       'Sex  Sensuality Products', 'Sports & Outdoors', 'Grocery',\n",
       "       'Data Storage', 'Cables & Accessories', 'Office Electronics',\n",
       "       'Arts  Crafts Supplies', 'Laptop Accessories', 'Safety & Security',\n",
       "       'Mobile Phones & Smartphones', \"Women's Jewelry\",\n",
       "       'PlayStation 5 Consoles, Games & Accessories',\n",
       "       'Hydraulics, Pneumatics  Plumbing', 'Handmade Jewellery',\n",
       "       \"Women's Clothing\", 'Wellness & Relaxation Products',\n",
       "       'Hydraulics, Pneumatics & Plumbing', 'Cat Supplies', 'Girls',\n",
       "       'Projectors', 'Motorcycle Accessories  Parts', 'Hi-Fi Speakers',\n",
       "       'Remote & App-Controlled Devices', 'Toy Vehicle Playsets',\n",
       "       'Vacuums & Floorcare', 'Swimming Pool  Outdoor Water Toys',\n",
       "       'Home Storage & Organization', 'Memory Cards',\n",
       "       'Reptiles & Amphibian Supplies', 'Radios & Boomboxes', 'Beauty',\n",
       "       'Small Kitchen Appliances', 'Car Care',\n",
       "       'Keyboards, Mice  Input Devices',\n",
       "       'Retail Store Fixtures & Equipment', \"Women's Handbags\",\n",
       "       'Electrical Equipment', 'eBook Readers & Accessories', 'Soft Toys',\n",
       "       'Test, Measure  Inspect', 'Network Cards',\n",
       "       'Commercial Door Products', 'Uniforms, Work  Safety',\n",
       "       'Handmade in Canada', 'Motorbike Batteries', 'Radio Communication',\n",
       "       'Hair Care', 'Building Supplies', 'Beading & Jewelry Making',\n",
       "       'Pest Control', \"Men's Accessories\",\n",
       "       'Telephones, VoIP & Accessories', 'Rough Plumbing', 'Baby Gifts',\n",
       "       'Hardware', 'Xbox 360 Games, Consoles & Accessories',\n",
       "       'Beauty Tools & Accessories', 'Filtration', 'Pet Bird Supplies',\n",
       "       'Kites  Wind Spinners', 'Sports Toys & Outdoor',\n",
       "       'Automotive Exterior Accessories', \"Men's Clothing\",\n",
       "       'RV Parts  Accessories', \"Women's Health  Family Planning\",\n",
       "       'Handmade Home & Kitchen Products', 'External Sound Cards',\n",
       "       'Dishwashing Supplies', 'Binoculars, Telescopes & Optics',\n",
       "       'Kitchen  Bath Fixtures', 'Monitors', 'Cabinet Hardware',\n",
       "       'Virtual Reality Hardware & Accessories', \"Girls' Jewelry\",\n",
       "       'Games & Game Accessories',\n",
       "       'Automotive Performance Parts & Accessories', \"Kids' Play Figures\",\n",
       "       'Electronics', 'Tablets', 'Hardware Adhesives  Sealers',\n",
       "       'PC & Video Games', 'PC Games & Accessories', 'Team Sports',\n",
       "       'Seasonal Décor', 'Makeup', 'Recording & Computer',\n",
       "       'Home Décor Products', 'Car & Motorbike',\n",
       "       'Pools, Hot Tubs  Supplies', 'Breakfast Cereal',\n",
       "       'Bedding Collections', 'Dolls & Accessories',\n",
       "       'Motorbike Handlebars, Controls & Grips', 'Women',\n",
       "       'Heating Cooling  Air Quality', 'Stuffed  Plush Animals',\n",
       "       'Computer Uninterrupted Power Supply', 'Cycling Shoes',\n",
       "       'Arts & Crafts Supplies', 'Vehicle Electronics', 'Awards',\n",
       "       'Smartwatches', 'Household Cleaning Tools', 'Pet Supplies',\n",
       "       'Outdoor Power  Lawn Equipment',\n",
       "       'Agricultural Equipment & Supplies', 'Camping  Hiking Equipment',\n",
       "       'Laptops', \"Kids' Dress Up & Pretend Play\", 'USB Gadgets',\n",
       "       'Dog Supplies', 'Tarps  Tie-Downs', 'Wearable Technology',\n",
       "       'Cigarette Lighters', 'Pogo Sticks  Hopping Toys',\n",
       "       'Bathroom Hardware', 'Game Hardware', 'Handmade Artwork',\n",
       "       'Exercise  Fitness Equipment', 'Flashes', 'Household Batteries',\n",
       "       'Boys', 'School & Educational Supplies', 'Mailboxes  Accessories',\n",
       "       'Camera  Photo', 'Bath  Body', \"Women's Watches\",\n",
       "       'Salon  Spa Equipment', 'Networking Products', 'Cutting Tools',\n",
       "       'Baby & Toddler Feeding Supplies', 'Vacuum Cleaners & Floor Care',\n",
       "       \"Baby Boys' Clothing & Shoes\", 'Handmade Gifts',\n",
       "       'Security & Surveillance Equipment', 'Handmade Home Décor',\n",
       "       'Computer Monitors', 'Networking Devices',\n",
       "       'Computer Hard Drive Accessories', 'Mobile Phones & Communication',\n",
       "       \"Kids' Furniture\", 'Medical Supplies  Equipment',\n",
       "       'Gift Wrapping Supplies', 'Wall Art', 'Furniture',\n",
       "       'Travel Accessories',\n",
       "       'Nintendo Switch Consoles, Games & Accessories', 'Gate Hardware',\n",
       "       \"Men's Watches\", 'Dining Room Furniture',\n",
       "       'Industrial & Scientific', 'Painting, Drawing & Art Supplies',\n",
       "       'Health  Personal Care', \"Men's Shoes\", 'Laptop Bags',\n",
       "       \"Women's Accessories\", 'Printers & Accessories',\n",
       "       'Cycling Equipment', 'Construction Machinery',\n",
       "       'Garden Structures  Germination Equipment', 'Home Entertainment',\n",
       "       'Garage Door Hardware', 'Film Cameras', 'Air Freshener Supplies',\n",
       "       'Weather Thermometers', 'KVM Switches',\n",
       "       'Water Coolers, Filters  Cartridges',\n",
       "       'Automotive Interior Accessories',\n",
       "       'Musical Instruments, Stage  Studio',\n",
       "       'Industrial Adhesives, Sealants & Lubricants',\n",
       "       'Shaving  Hair Removal Products',\n",
       "       'Janitorial & Sanitation Supplies', 'Material Handling',\n",
       "       'Occupational Health  Safety Products', 'CD, Disc & Tape Players',\n",
       "       'Lenses', 'Knitting & Crochet Supplies',\n",
       "       'Leisure Sports  Game Room', 'Fireplaces, Stoves & Accessories',\n",
       "       'Luggage and travel gear', 'Science Education Supplies',\n",
       "       'Basketball Footwear', 'Snow  Ice Sports',\n",
       "       'Manicure & Pedicure Products', 'Sports Supplements',\n",
       "       'GPS, Finders & Accessories', 'Rugs, Pads & Protectors', 'Bedding',\n",
       "       'Scanners & Accessories', 'House Numbers, Plaques  Signs',\n",
       "       'Sports Fan Shop', 'Handmade Kitchen  Dining', 'Golf Equipment',\n",
       "       'Computer Cable Adapters', 'Ladders', 'Televisions  Video',\n",
       "       'Locks  Hasps', 'Household Supplies', 'Kitchen & Bath Fixtures',\n",
       "       'Outdoor Gear', 'Beauty Tools  Accessories', 'Furniture Hardware',\n",
       "       'Luxury Beauty', 'Office Paper Products', \"Boys' Accessories\",\n",
       "       'Lab & Scientific Products', 'Hobbies', 'Computer Components',\n",
       "       'Audio/Video Receivers  Amplifiers', 'PC Gaming Accessories',\n",
       "       'Handmade Kitchen & Dining',\n",
       "       'Nail Polish  Nail Decoration Products', 'GPS & Navigation',\n",
       "       'Nursery Furniture, Bedding  Décor', 'Electronic Components',\n",
       "       'Paint, Body  Trim Products', 'Collectible Toys',\n",
       "       'Bubble Blowing Products', 'Perfume  Cologne',\n",
       "       'Heavy Duty & Commercial Vehicle Equipment',\n",
       "       'Bikes, Scooters  Ride-Ons', 'Barebone PCs', 'Oils  Fluids',\n",
       "       'Games  Accessories', 'Industrial Materials', 'Outdoor Cooking',\n",
       "       'Novelty  Special Use Clothing', 'Make-up',\n",
       "       'Stationery  Party Supplies', 'Power Transmission Products',\n",
       "       'Outdoor Rope Lights', 'Piano & Keyboard', 'Arts & Crafts',\n",
       "       \"Boys' Clothing\", 'Living Room Furniture',\n",
       "       'Memory Card Accessories', 'Handmade Clothing, Shoes  Accessories',\n",
       "       'String Lights', \"Customers' Most Loved\",\n",
       "       'Garden Tools & Watering Equipment', 'Office Supplies',\n",
       "       'Household Batteries, Chargers & Accessories',\n",
       "       'Electrical Power Accessories', 'Automotive Care',\n",
       "       'Pens, Pencils & Writing Supplies', 'Television Projectors',\n",
       "       'Hi-Fi & Home Audio Accessories', 'Digital Cameras',\n",
       "       \"Kids' Play Vehicles\", \"Girls' Clothing\",\n",
       "       'Building  Construction Toys', 'Dolls  Accessories',\n",
       "       'Garden Furniture & Accessories', 'SIM Cards', 'Televisions',\n",
       "       '3D Printing & Scanning', 'Car & Vehicle Electronics',\n",
       "       'Car Electronics  Accessories', 'Computers & Tablets',\n",
       "       'Abrasive & Finishing Products', 'Electrical',\n",
       "       'Power Tools  Hand Tools', 'Bakeware',\n",
       "       'Home Lighting & Ceiling Fans', 'Sewing, Craft  Hobby',\n",
       "       'Packaging & Shipping Supplies', 'Baby', \"Women's Shoes\",\n",
       "       'Gardening', 'Skin Care', 'Men', 'Martial Arts  Combat Sports',\n",
       "       'Desktop PCs', 'Sports  Outdoors', 'Storage & Organisation',\n",
       "       'Toy Figures & Playsets', 'Baby Strollers',\n",
       "       'Lab  Scientific Products', 'Perfumes & Fragrances',\n",
       "       'Measuring & Layout', 'Automotive Tools  Equipment',\n",
       "       'Lighting & Ceiling Fans', 'Hunting  Fishing', 'Window Hardware',\n",
       "       \"Children's Outdoor Inflatable Bouncers  Bouncy Castles\",\n",
       "       'Shoe, Jewelry  Watch Accessories',\n",
       "       'Motorbike Electrical & Batteries', 'Headphones & Earbuds',\n",
       "       'Plants Seeds  Bulbs', 'Automotive Tools & Equipment',\n",
       "       'Additive Manufacturing Products', 'Baby & Toddler Toys',\n",
       "       'Toy Gardening Equipment', 'Health Care Products',\n",
       "       'Sporting Apparel', 'Laundry Supplies', 'Microphones',\n",
       "       'Learning & Education Toys', 'Handmade Toys  Games',\n",
       "       'Oral Hygiene Products', \"Girls' Shoes\", 'Accessories & Supplies',\n",
       "       'Signs & Plaques', 'Garden Décor', 'Fresh Flowers  Indoor Plants',\n",
       "       'Light Bulbs', 'Diet  Nutrition Products', 'Toys & Games',\n",
       "       'Home Brewing  Wine Making', 'Clothing, Shoes  Jewellery',\n",
       "       'Home Appliances', 'Outdoor Heating  Cooling', 'Backpacks',\n",
       "       'Bedroom Furniture', 'Home Audio & Theater Products',\n",
       "       'Outdoor Storage  Housing', 'Food Service Equipment  Supplies',\n",
       "       'Indoor Lighting', 'Tablet Accessories', 'Toy Advent Calendars',\n",
       "       'Party Decorations', 'Painting Supplies, Tools & Wall Treatments',\n",
       "       'Camera & Photo Accessories', 'Beer, Wine & Spirits',\n",
       "       'Industrial Hardware', 'Finger Toys', 'Luggage',\n",
       "       'Craft Supplies & Materials', 'Automotive Replacement Parts',\n",
       "       'Baby Travel Gear', 'Sewing Products', 'Ironing & Steamers',\n",
       "       'Vacuums  Floor Care', 'Home Audio Speakers', 'Household Cleaning',\n",
       "       'Portable Audio & Video', 'Automotive Tires  Wheels',\n",
       "       '3D Printing  Scanning', 'Baby Safety Products',\n",
       "       'Needlework Supplies', 'Vision Products',\n",
       "       'Car Electronics & Accessories', 'Professional Medical Supplies',\n",
       "       \"Kids' Play Cars & Race Cars\", 'Fragrances', \"Men's Jewelry\",\n",
       "       'Bath Products', 'Travel Duffel Bags', 'Games & Accessories',\n",
       "       'Small Appliances', 'Cushions & Accessories',\n",
       "       'Handmade Baby Products', 'Hi-Fi Receivers & Separates',\n",
       "       'Guitars & Gear', 'Headphones & Earphones', 'Table Tennis',\n",
       "       'Health & Personal Care', 'Motorbike Lighting',\n",
       "       'Computer Audio  Video Accessories', 'Home  Portable Audio',\n",
       "       'Wellness', 'Professional Dental Supplies',\n",
       "       'Stuffed Animals & Plush Toys', 'Media Streaming Devices',\n",
       "       'PlayStation 4 Games, Consoles & Accessories',\n",
       "       'Home Theatre Systems', 'Paper  Plastic Household Supplies',\n",
       "       'Backyard Birding', 'Kitchen Utensils  Gadgets',\n",
       "       'Nails, Screws  Fasteners', 'Tattooing Supplies',\n",
       "       'Sexual Wellness Products', 'Baby  Toddler Toys',\n",
       "       \"Kids' Party Supplies\", 'Fabric Decorating', 'Fish & Aquatic Pets',\n",
       "       'Garden Storage & Housing', 'RV Parts & Accessories',\n",
       "       'External TV Tuners & Video Capture Cards',\n",
       "       'External Optical Drives', 'Skin Care Products', 'Handmade',\n",
       "       'Power Tools & Hand Tools', 'Baby Care Products',\n",
       "       'Outdoor Lighting Products', 'Nursery Furniture, Bedding & Décor',\n",
       "       'Toy Vehicles', 'Computer Printers', 'Automotive Tires & Wheels',\n",
       "       'Hardware Hooks', 'Abrasive  Finishing Products',\n",
       "       'Equestrian Sports Boots', 'Vision Care Products',\n",
       "       'Janitorial  Sanitation Supplies', \"Boys' Jewelry\",\n",
       "       'Large Appliances', 'Office Products', 'Novelty Toys & Amusements',\n",
       "       'Shelf Brackets  Supports', 'Printers', 'Outdoor Recreation',\n",
       "       'Computer Networking', 'Snowboards', 'Outdoor Lighting',\n",
       "       'Luggage  Travel Gear', 'Karaoke Equipment', 'Tripods & Monopods',\n",
       "       'Bath & Body', 'Curtain & Blind Accessories',\n",
       "       'Sport Specific Clothing', 'Material Transport Equipment',\n",
       "       'Outdoor Play Toys', 'Tableware', 'Patio Furniture  Accessories',\n",
       "       \"Kids' Art & Craft Supplies\", 'Scrapbooking & Stamping Supplies',\n",
       "       \"Kids' Ball Pits  Accessories\", 'Play Sets  Playground Equipment',\n",
       "       'Home  Kitchen', 'Furniture & Lighting', 'Motorbike Instruments',\n",
       "       'Storage & Home Organisation',\n",
       "       'Nintendo DS Games, Consoles & Accessories', 'Gifts for Her',\n",
       "       'Computer Security Cables', 'Power  Hand Tools',\n",
       "       'Toy Foam Blasters  Guns', 'Desktop Computers',\n",
       "       'Climbing Footwear', 'Handmade Beauty  Grooming Products',\n",
       "       \"Baby Girls' Clothing & Shoes\",\n",
       "       'Paint, Wall Treatments & Supplies', 'Test, Measure & Inspect',\n",
       "       'Toy Sports Equipment', 'Building Toys',\n",
       "       'Lights, Bulbs & Indicators',\n",
       "       'Kitchen Knives  Cutlery Accessories', 'Baby  Child Care Products',\n",
       "       'Sandboxes  Beach Toys', 'Travel Tote Bags',\n",
       "       'Diet & Sports Nutrition', 'Home Audio Record Players',\n",
       "       'Mac Games & Accessories', 'Surveillance Cameras', 'Hand Tools',\n",
       "       'Xbox Series X & S Consoles, Games & Accessories',\n",
       "       'Baby & Child Care Products', 'Computer Monitor Accessories',\n",
       "       'Bird & Wildlife Care', 'Snow Sledding Equipment', 'Hockey Shoes',\n",
       "       'Ballet & Dancing Footwear',\n",
       "       'Laptop  Netbook Computer Accessories',\n",
       "       'Farming  Urban Agriculture', 'Home Office Furniture',\n",
       "       'Home Décor', 'Welding & Soldering', 'Door Hardware  Locks',\n",
       "       'Tools  Home Improvement', 'Home Cinema, TV & Video',\n",
       "       'Computer Audio & Video Accessories', 'Suitcases',\n",
       "       'Synthesisers, Samplers & Digital Instruments',\n",
       "       'Pools, Hot Tubs & Supplies', 'Video Games',\n",
       "       'Industrial  Scientific', 'Electronic Toys',\n",
       "       'Foot, Hand & Nail Care Products',\n",
       "       'Keyboards, Mice & Input Devices',\n",
       "       'Shaving & Hair Removal Products', 'Pumps & Plumbing Equipment',\n",
       "       'Vitamins, Minerals  Supplements', \"Boys' Shoes\",\n",
       "       'Handmade Clothing, Shoes & Accessories',\n",
       "       'Indoor Insect  Pest Control', 'Laptop Computers',\n",
       "       'Streaming Clients', 'Tennis Shoes', 'Flashlights',\n",
       "       'Action Figures, Maquettes  Busts', \"Kids' Electronics\",\n",
       "       'Home Entertainment Furniture', 'Baby Strollers & Accessories',\n",
       "       'DVD Players  Recorders', 'Industrial Power & Hand Tools',\n",
       "       'Irons, Steamers  Accessories',\n",
       "       'Smart Home: Security Cameras and Systems',\n",
       "       'Household Cleaning Supplies', 'Computers', 'Video Projectors',\n",
       "       'Kitchen Tools & Gadgets', 'Printer Accessories',\n",
       "       'Digital Media Devices', 'Fasteners',\n",
       "       'Kitchen Storage  Organization',\n",
       "       'Child Safety Car Seats & Accessories',\n",
       "       \"Women's Sports & Outdoor Shoes\", 'Computer Screws',\n",
       "       'Luxury Food & Drink', 'Electronics  Gadgets',\n",
       "       'Coffee, Tea  Espresso', 'Sports & Outdoor Play Toys',\n",
       "       'Home Bar Furniture', 'Cell Phones & Accessories',\n",
       "       'Baby Activity & Entertainment Products',\n",
       "       \"Kids' Play Trains & Trams\", 'Beanbag  Foot Bags',\n",
       "       'Jigsaws & Puzzles', 'Birthday Gifts', 'Artwork', 'Party Supplies',\n",
       "       'Building & Construction Toys', 'Televisions & Video Products',\n",
       "       'Child Safety Car Seats', 'Power & Hand Tools',\n",
       "       'Building Materials', 'Smart Home: Plugs and Outlets',\n",
       "       'Arts, Crafts & Sewing Storage', 'Material Handling Products',\n",
       "       'Coffee, Tea & Espresso', 'Cables  Accessories', 'Camera & Photo',\n",
       "       'Boxing Shoes', 'Small Animal Supplies', 'Automotive',\n",
       "       'Portable Sound & Video Products', 'Hair Care Products',\n",
       "       'Smart Home: Lawn and Garden', 'Plants, Seeds & Bulbs',\n",
       "       'Messenger Bags', 'Handmade Stationery  Party Supplies',\n",
       "       'Toilet Training Products', 'Printmaking Supplies',\n",
       "       'Sony PSP Games, Consoles & Accessories', 'Toys  Games',\n",
       "       \"Kids' Slumber Bags\", 'Puzzles',\n",
       "       'Stationery & Gift Wrapping Supplies',\n",
       "       'Mowers & Outdoor Power Tools', 'Tricycles, Scooters & Wagons',\n",
       "       'Uninterruptible Power Supply Units & Accessories',\n",
       "       'Headphones, Earphones & Accessories', 'Sports Nutrition Products',\n",
       "       'Baby Diapering Products', \"Children's Bedding\",\n",
       "       'Coffee & Espresso Machines', 'Sports & Fitness', 'Ski Clothing',\n",
       "       'Motorcycle & Powersports', 'Home Textiles', 'Digital Frames',\n",
       "       'Kitchen & Dining', 'USB Hubs', \"Kids' Home Store\",\n",
       "       'Smart Home: Other Solutions', 'Tools & Home Improvement',\n",
       "       'Scaffolding Equipment', \"Kids' Play Tents  Tunnels\",\n",
       "       'Oral Care Products', 'Smart Home: Lighting', 'Outdoor Décor',\n",
       "       'Gifts for Him', 'Pregnancy & Maternity Products', 'Cricket Shoes',\n",
       "       'Hallway Furniture', 'Home Storage  Organization',\n",
       "       'Power Supplies', \"Girls' Accessories\", 'Patio, Lawn  Garden',\n",
       "       'Action Sports', 'Monitor Accessories', 'Computer Accessories',\n",
       "       'Nintendo 3DS & 2DS Consoles, Games & Accessories',\n",
       "       'Horse Supplies', 'Snowboard Boots', 'Barware',\n",
       "       'Bathroom Furniture', 'Motherboards',\n",
       "       'Kitchen Storage & Organisation',\n",
       "       'Xbox One Games, Consoles & Accessories', 'Handmade Furniture',\n",
       "       'Job Site Lighting', 'Outdoor Recreation Apparel  Equipment',\n",
       "       'Kitchen Cookware', 'Camcorders', 'Bedding & Linen',\n",
       "       'Professional Education Supplies', 'DJ & VJ Equipment',\n",
       "       'Home Use Medical Supplies & Equipment',\n",
       "       'Automotive Enthusiast Merchandise',\n",
       "       'Wii U Games, Consoles & Accessories', 'Craft & Hobby Fabric',\n",
       "       'Heating, Cooling & Air Quality',\n",
       "       'PlayStation 3 Games, Consoles & Accessories', 'Oils & Fluids',\n",
       "       'Downhill Ski Boots', 'Kitchen Linen',\n",
       "       \"Men's Sports & Outdoor Shoes\", 'STEM', 'Mirrors',\n",
       "       'Puppets & Puppet Theaters', 'Kitchen  Dining',\n",
       "       'Motorbike Engines & Engine Parts', 'Vases',\n",
       "       'Beauty & Personal Care', 'Smart Home: Smart Locks and Entry',\n",
       "       'Food Service Equipment & Supplies', 'TV Accessories',\n",
       "       'Internal TV Tuner & Video Capture Cards',\n",
       "       'Wii Games, Consoles & Accessories', 'Wind Instruments',\n",
       "       'Occupational Health & Safety Products', \"Kids' Play Trucks\",\n",
       "       'Calendars & Personal Organisers',\n",
       "       'Smart Home: WiFi and Networking', 'Legacy Systems',\n",
       "       'Tablet Replacement Parts', 'Motorbike Accessories', 'Cookware',\n",
       "       'Rain Umbrellas', 'Computer Memory',\n",
       "       'PlayStation Vita Games, Consoles & Accessories',\n",
       "       'Personal Care Products', 'Smart Home: Home Entertainment',\n",
       "       'Garment Bags', 'Ironing Products', 'Clocks', 'Computer Cases',\n",
       "       'Boxes & Organisers', 'Smart Home Security & Lighting',\n",
       "       'Blu-ray Players  Recorders', 'Made in Italy Handmade',\n",
       "       'Snowboard Bindings', 'Computer External Components',\n",
       "       'Outdoor Heaters & Fire Pits', 'Test & Measurement',\n",
       "       'Bass Guitars & Gear', 'Water Coolers, Filters & Cartridges',\n",
       "       \"Boys' Watches\", 'Automotive Paint & Paint Supplies',\n",
       "       'Motorbike Clothing', 'Health & Household',\n",
       "       'Video Game Consoles & Accessories', 'Motorbike Boots & Luggage',\n",
       "       'Home Fragrance', 'Downhill Skis', 'Industrial Electrical',\n",
       "       'Blank Media Cases & Wallets', 'Baby Stationery', 'PA & Stage',\n",
       "       'General Music-Making Accessories', 'Action Cameras', 'Slipcovers',\n",
       "       'Ski Helmets', 'Motorbike Chassis', 'Mattress Pads & Toppers',\n",
       "       'Internal Optical Drives', \"Kids' Play Tractors\",\n",
       "       \"Kids' Play Buses\", 'Home Brewing & Wine Making', 'Adapters',\n",
       "       'Smart Home', \"Kids' Play Boats\", '3D Printers',\n",
       "       'Computer Servers', 'Computers, Components & Accessories',\n",
       "       'Luggage Sets', 'Decking & Fencing', 'Commerical Door Products',\n",
       "       'Thermometers & Meteorological Instruments', 'Ski Goggles',\n",
       "       'String Instruments', 'Bedding Accessories',\n",
       "       'Hard Drive Accessories', 'Decorative Home Accessories',\n",
       "       'Billiard, Snooker & Pool', 'Lighting', \"Girls' School Uniforms\",\n",
       "       'Photo Frames', 'Window Treatments', 'Motorbike Seat Covers',\n",
       "       'Smart Home - Heating & Cooling', 'Trampolines & Accessories',\n",
       "       'Mobile Phone Accessories', 'Darts & Dartboards', \"Girls' Watches\",\n",
       "       'Graphics Cards', 'I/O Port Cards', 'Motorbike Drive & Gears',\n",
       "       'Skiing Poles', 'Bathroom Lighting', 'Bowling', 'Bathroom Linen',\n",
       "       'CPUs', 'Hiking Hand & Foot Warmers',\n",
       "       'Smart Home: New Smart Devices', 'Doormats',\n",
       "       'Inflatable Beds, Pillows & Accessories', 'Art & Craft Supplies',\n",
       "       'Decorative Artificial Flora', 'Boating Footwear',\n",
       "       'Lights and switches', 'International Food Market', 'Plugs',\n",
       "       'Motorbike Brakes', 'Golf Shoes', 'Online Video Game Services',\n",
       "       'Computer & Server Racks', 'Handmade Bedding', 'Candles & Holders',\n",
       "       'Drums & Percussion', 'Computer Memory Card Accessories',\n",
       "       'Motorbike Exhaust & Exhaust Systems', 'Alexa Built-In Devices',\n",
       "       \"Boys' School Uniforms\", 'Torches', 'Photo Printers', 'Cameras',\n",
       "       'Smart Home: Voice Assistants and Hubs',\n",
       "       'Smart Home: Vacuums and Mops', 'Gift Cards', 'Smart Speakers',\n",
       "       'Smart Home Thermostats - Compatibility Checker'], dtype=object)"
      ]
     },
     "execution_count": 10,
     "metadata": {},
     "output_type": "execute_result"
    }
   ],
   "source": [
    "categories = df['category_name'].unique()\n",
    "print(f'Number of categories: {len(categories)}')\n",
    "categories"
   ]
  },
  {
   "cell_type": "code",
   "execution_count": 11,
   "metadata": {},
   "outputs": [
    {
     "name": "stderr",
     "output_type": "stream",
     "text": [
      "tokenizer_config.json: 100%|██████████| 28.0/28.0 [00:00<00:00, 7.58kB/s]\n",
      "vocab.txt: 100%|██████████| 232k/232k [00:00<00:00, 12.8MB/s]\n",
      "tokenizer.json: 100%|██████████| 466k/466k [00:00<00:00, 54.5MB/s]\n",
      "config.json: 100%|██████████| 570/570 [00:00<00:00, 293kB/s]\n"
     ]
    }
   ],
   "source": [
    "tokenizer = BertTokenizer.from_pretrained(\"bert-base-uncased\")"
   ]
  },
  {
   "cell_type": "code",
   "execution_count": 12,
   "metadata": {},
   "outputs": [
    {
     "data": {
      "text/plain": [
       "['i', 'have', 'a', 'new', 'gp', '##u', '!']"
      ]
     },
     "execution_count": 12,
     "metadata": {},
     "output_type": "execute_result"
    }
   ],
   "source": [
    "tokenizer.tokenize(\"I have a new GPU!\")"
   ]
  },
  {
   "cell_type": "code",
   "execution_count": 13,
   "metadata": {},
   "outputs": [],
   "source": [
    "df[\"tokenized_title\"] = df[\"title\"].apply(lambda title: tokenizer.tokenize(title))"
   ]
  },
  {
   "cell_type": "code",
   "execution_count": 14,
   "metadata": {},
   "outputs": [],
   "source": [
    "df[\"category_label\"] = df[\"category_name\"].apply(lambda category: categories.tolist().index(category))"
   ]
  },
  {
   "cell_type": "code",
   "execution_count": 15,
   "metadata": {},
   "outputs": [
    {
     "data": {
      "text/html": [
       "<div>\n",
       "<style scoped>\n",
       "    .dataframe tbody tr th:only-of-type {\n",
       "        vertical-align: middle;\n",
       "    }\n",
       "\n",
       "    .dataframe tbody tr th {\n",
       "        vertical-align: top;\n",
       "    }\n",
       "\n",
       "    .dataframe thead th {\n",
       "        text-align: right;\n",
       "    }\n",
       "</style>\n",
       "<table border=\"1\" class=\"dataframe\">\n",
       "  <thead>\n",
       "    <tr style=\"text-align: right;\">\n",
       "      <th></th>\n",
       "      <th>title</th>\n",
       "      <th>category_name</th>\n",
       "      <th>tokenized_title</th>\n",
       "      <th>category_label</th>\n",
       "    </tr>\n",
       "  </thead>\n",
       "  <tbody>\n",
       "    <tr>\n",
       "      <th>162</th>\n",
       "      <td>AnubisGX Premium White RGB Mouse Pad | XL Wate...</td>\n",
       "      <td>Game Hardware</td>\n",
       "      <td>[an, ##ub, ##is, ##g, ##x, premium, white, r, ...</td>\n",
       "      <td>119</td>\n",
       "    </tr>\n",
       "    <tr>\n",
       "      <th>599</th>\n",
       "      <td>ASUS ROG Gladius II Origin Wired USB Optical E...</td>\n",
       "      <td>Game Hardware</td>\n",
       "      <td>[as, ##us, ro, ##g, glad, ##ius, ii, origin, w...</td>\n",
       "      <td>119</td>\n",
       "    </tr>\n",
       "    <tr>\n",
       "      <th>770</th>\n",
       "      <td>Mouse Skates / Mice Feet for Alienware 610M 51...</td>\n",
       "      <td>Game Hardware</td>\n",
       "      <td>[mouse, skate, ##s, /, mice, feet, for, alien,...</td>\n",
       "      <td>119</td>\n",
       "    </tr>\n",
       "    <tr>\n",
       "      <th>938</th>\n",
       "      <td>Kailh GM 4.0 Micro Switch 60M Life Gaming Mous...</td>\n",
       "      <td>Game Hardware</td>\n",
       "      <td>[kai, ##l, ##h, gm, 4, ., 0, micro, switch, 60...</td>\n",
       "      <td>119</td>\n",
       "    </tr>\n",
       "    <tr>\n",
       "      <th>1863</th>\n",
       "      <td>AJAZZ K3 Wired Mechanical Gaming Keyboard,98-K...</td>\n",
       "      <td>Game Hardware</td>\n",
       "      <td>[aj, ##az, ##z, k, ##3, wired, mechanical, gam...</td>\n",
       "      <td>119</td>\n",
       "    </tr>\n",
       "  </tbody>\n",
       "</table>\n",
       "</div>"
      ],
      "text/plain": [
       "                                                  title  category_name  \\\n",
       "162   AnubisGX Premium White RGB Mouse Pad | XL Wate...  Game Hardware   \n",
       "599   ASUS ROG Gladius II Origin Wired USB Optical E...  Game Hardware   \n",
       "770   Mouse Skates / Mice Feet for Alienware 610M 51...  Game Hardware   \n",
       "938   Kailh GM 4.0 Micro Switch 60M Life Gaming Mous...  Game Hardware   \n",
       "1863  AJAZZ K3 Wired Mechanical Gaming Keyboard,98-K...  Game Hardware   \n",
       "\n",
       "                                        tokenized_title  category_label  \n",
       "162   [an, ##ub, ##is, ##g, ##x, premium, white, r, ...             119  \n",
       "599   [as, ##us, ro, ##g, glad, ##ius, ii, origin, w...             119  \n",
       "770   [mouse, skate, ##s, /, mice, feet, for, alien,...             119  \n",
       "938   [kai, ##l, ##h, gm, 4, ., 0, micro, switch, 60...             119  \n",
       "1863  [aj, ##az, ##z, k, ##3, wired, mechanical, gam...             119  "
      ]
     },
     "execution_count": 15,
     "metadata": {},
     "output_type": "execute_result"
    }
   ],
   "source": [
    "df[df[\"category_name\"] == \"Game Hardware\"].head()"
   ]
  },
  {
   "cell_type": "code",
   "execution_count": 16,
   "metadata": {},
   "outputs": [],
   "source": [
    "# split the dataset into train and test\n",
    "train_df = df.sample(frac=0.8, random_state=42)\n",
    "test_df = df.drop(train_df.index)"
   ]
  },
  {
   "cell_type": "code",
   "execution_count": 17,
   "metadata": {},
   "outputs": [],
   "source": [
    "vocab_counts = defaultdict(lambda: 0)\n",
    "for tokenized_title in df[\"tokenized_title\"]:\n",
    "    for token in tokenized_title:\n",
    "        vocab_counts[token] += 1"
   ]
  },
  {
   "cell_type": "code",
   "execution_count": 18,
   "metadata": {},
   "outputs": [],
   "source": [
    "tokens_by_count = sorted([(v, i) for v, i in vocab_counts.items()], key=lambda x: x[1], reverse=True)\n",
    "tokens_by_count = [('[PAD]', 0)] + tokens_by_count  # 0 is reserved for padding\n",
    "vocab = {token: i for i, (token, _) in enumerate(tokens_by_count)}"
   ]
  },
  {
   "cell_type": "code",
   "execution_count": 19,
   "metadata": {},
   "outputs": [
    {
     "data": {
      "text/plain": [
       "23481"
      ]
     },
     "execution_count": 19,
     "metadata": {},
     "output_type": "execute_result"
    }
   ],
   "source": [
    "len(vocab)"
   ]
  },
  {
   "cell_type": "code",
   "execution_count": 20,
   "metadata": {},
   "outputs": [
    {
     "data": {
      "image/png": "[encoded data removed]",
      "text/plain": [
       "<Figure size 640x480 with 1 Axes>"
      ]
     },
     "metadata": {},
     "output_type": "display_data"
    }
   ],
   "source": [
    "plt.hist([len(tokenized_title) for tokenized_title in df[\"tokenized_title\"]], bins=100)\n",
    "plt.show()"
   ]
  },
  {
   "cell_type": "code",
   "execution_count": 21,
   "metadata": {},
   "outputs": [],
   "source": [
    "max_title_token_length = 50"
   ]
  },
  {
   "cell_type": "code",
   "execution_count": 22,
   "metadata": {},
   "outputs": [],
   "source": [
    "def get_input_tensor(df, seq_len, vocab):\n",
    "    df = df.reset_index(drop=True)\n",
    "    data_tensor = torch.zeros((len(df), seq_len), dtype=torch.long)\n",
    "    for i, row in df.iterrows():\n",
    "        title = row[\"tokenized_title\"]\n",
    "        title = title[:seq_len]\n",
    "        padded_title = title + [\"[PAD]\"] * (seq_len - len(title))\n",
    "        for j, token in enumerate(padded_title):\n",
    "            data_tensor[i][j] = vocab[token]\n",
    "    return data_tensor\n",
    "\n",
    "\n",
    "def get_label_tensor(df):\n",
    "    return torch.tensor(df[\"category_label\"].tolist())\n",
    "\n",
    "train_input_tensor = get_input_tensor(train_df, max_title_token_length, vocab)\n",
    "train_label_tensor = get_label_tensor(train_df)\n",
    "test_input_tensor = get_input_tensor(test_df, max_title_token_length, vocab)\n",
    "test_label_tensor = get_label_tensor(test_df)"
   ]
  },
  {
   "cell_type": "code",
   "execution_count": 75,
   "metadata": {},
   "outputs": [],
   "source": [
    "class MLPModel(nn.Module):\n",
    "    def __init__(self, vocab_size, embed_dim, hidden_dims, seq_length, num_classes):\n",
    "        super().__init__()\n",
    "        self.embedding = nn.Embedding(vocab_size, embed_dim)\n",
    "        hidden_layers = []\n",
    "        for fan_in_dim, fan_out_dim in zip([embed_dim * seq_length] + hidden_dims[:-1], hidden_dims):\n",
    "            hidden_layers.extend([\n",
    "                nn.Linear(fan_in_dim, fan_out_dim),\n",
    "                nn.ReLU(),\n",
    "            ])\n",
    "        self.hidden_layers = nn.ModuleList(hidden_layers)\n",
    "        fc_fan_in_dim = hidden_dims[-1] if hidden_dims else embed_dim\n",
    "        self.fc = nn.Linear(fc_fan_in_dim, num_classes)\n",
    "\n",
    "    def forward(self, x):\n",
    "        # print(f\"input shape={x.shape}\")\n",
    "        x = self.embedding(x)\n",
    "        # print(f\"embedding shape={x.shape}\")\n",
    "        x = torch.reshape(x, x.shape[:-2] + (-1,))\n",
    "        # print(f\"concated shape={x.shape}\")\n",
    "        for hidden_layer in self.hidden_layers:\n",
    "            x = hidden_layer(x)\n",
    "        # print(f\"last layer shape={x.shape}\")\n",
    "        x = self.fc(x)\n",
    "        # print(f\"output shape={x.shape}\")\n",
    "        return x"
   ]
  },
  {
   "cell_type": "code",
   "execution_count": 76,
   "metadata": {},
   "outputs": [
    {
     "data": {
      "text/plain": [
       "MLPModel(\n",
       "  (embedding): Embedding(23481, 32)\n",
       "  (hidden_layers): ModuleList(\n",
       "    (0): Linear(in_features=1600, out_features=512, bias=True)\n",
       "    (1): ReLU()\n",
       "  )\n",
       "  (fc): Linear(in_features=512, out_features=726, bias=True)\n",
       ")"
      ]
     },
     "execution_count": 76,
     "metadata": {},
     "output_type": "execute_result"
    }
   ],
   "source": [
    "mlp_e32_512 = MLPModel(\n",
    "    vocab_size=len(vocab),\n",
    "    embed_dim=32,\n",
    "    hidden_dims=[512],\n",
    "    seq_length=max_title_token_length,\n",
    "    num_classes=len(categories),\n",
    ")\n",
    "\n",
    "mlp_e32_512"
   ]
  },
  {
   "cell_type": "code",
   "execution_count": 77,
   "metadata": {},
   "outputs": [],
   "source": [
    "optimizer_mlp_e32_512 = torch.optim.Adam(mlp_e32_512.parameters(), lr=0.001)"
   ]
  },
  {
   "cell_type": "code",
   "execution_count": 78,
   "metadata": {},
   "outputs": [],
   "source": [
    "def train(model, input_tensor, label_tensor, optimizer, batch_size=256, epochs=1, steps=None):\n",
    "    loss_fn = nn.CrossEntropyLoss()\n",
    "    for epoch in range(epochs):\n",
    "        model.train()\n",
    "        start_time = time.time()\n",
    "        for i in range(0, input_tensor.shape[0], batch_size):\n",
    "            batch_input_tensor = input_tensor[i:i+batch_size]\n",
    "            # print(f\"batch_input_tensor.shape={batch_input_tensor.shape}\")\n",
    "            batch_label_tensor = label_tensor[i:i+batch_size]\n",
    "            # print(f\"batch_label_tensor.shape={batch_label_tensor.shape}\")\n",
    "            optimizer.zero_grad()\n",
    "            output = model(batch_input_tensor)\n",
    "            # print(f\"output.shape={output.shape}\")\n",
    "            loss = loss_fn(output, batch_label_tensor).mean()\n",
    "            # print(f\"loss.shape={loss.shape}\")\n",
    "            loss.backward()\n",
    "            optimizer.step()\n",
    "            # break\n",
    "            if i / batch_size % 100 == 0:\n",
    "                print(f\"Epoch {epoch} step {i / batch_size} loss: {loss.item()}\")\n",
    "            if steps and i >= steps:\n",
    "                    break\n",
    "        end_time = time.time()\n",
    "        print(f\"Epoch {epoch} loss: {loss.item()}  time: {(end_time - start_time):.2f}s\")\n",
    "        # break\n",
    "    return\n",
    "\n",
    "\n",
    "def eval(model, input_tensor, label_tensor):\n",
    "    model.eval()\n",
    "    with torch.no_grad():\n",
    "        output = model(input_tensor)\n",
    "        pred = output.argmax(dim=1, keepdim=True)\n",
    "        correct = pred.eq(label_tensor.view_as(pred)).type(torch.float).mean()\n",
    "    print(f\"Accuracy: {correct.item() * 100:.2f}%\")"
   ]
  },
  {
   "cell_type": "code",
   "execution_count": 79,
   "metadata": {},
   "outputs": [
    {
     "name": "stdout",
     "output_type": "stream",
     "text": [
      "Epoch 0 step 0.0 loss: 6.5987629890441895\n",
      "Epoch 0 step 100.0 loss: 5.268423080444336\n",
      "Epoch 0 step 200.0 loss: 4.471011638641357\n",
      "Epoch 0 step 300.0 loss: 3.885913848876953\n",
      "Epoch 0 step 400.0 loss: 3.60478138923645\n",
      "Epoch 0 loss: 3.659503936767578  time: 4.74s\n"
     ]
    }
   ],
   "source": [
    "train(mlp_e32_512, train_input_tensor, train_label_tensor, optimizer_mlp_e32_512, batch_size=1024)"
   ]
  },
  {
   "cell_type": "code",
   "execution_count": 26,
   "metadata": {},
   "outputs": [
    {
     "name": "stdout",
     "output_type": "stream",
     "text": [
      "Evaluating on train set:\n",
      "Accuracy: 35.68%\n",
      "\n",
      "Evaluating on test set:\n",
      "Accuracy: 31.71%\n"
     ]
    }
   ],
   "source": [
    "print(\"Evaluating on train set:\")\n",
    "eval(mlp_e32_512, train_input_tensor, train_label_tensor)\n",
    "\n",
    "print()\n",
    "print(\"Evaluating on test set:\")\n",
    "eval(mlp_e32_512, test_input_tensor, test_label_tensor)"
   ]
  },
  {
   "cell_type": "code",
   "execution_count": 80,
   "metadata": {},
   "outputs": [
    {
     "data": {
      "text/plain": [
       "1943542"
      ]
     },
     "execution_count": 80,
     "metadata": {},
     "output_type": "execute_result"
    }
   ],
   "source": [
    "sum([p.numel() for p in mlp_e32_512.parameters()])"
   ]
  },
  {
   "cell_type": "code",
   "execution_count": 81,
   "metadata": {},
   "outputs": [
    {
     "data": {
      "text/plain": [
       "True"
      ]
     },
     "execution_count": 81,
     "metadata": {},
     "output_type": "execute_result"
    }
   ],
   "source": [
    "torch.cuda.is_available()"
   ]
  },
  {
   "cell_type": "code",
   "execution_count": 29,
   "metadata": {},
   "outputs": [],
   "source": [
    "device_train_labels = train_label_tensor.to('cuda:0')"
   ]
  },
  {
   "cell_type": "code",
   "execution_count": 30,
   "metadata": {},
   "outputs": [],
   "source": [
    "device_train_inputs = train_input_tensor.to('cuda:0')"
   ]
  },
  {
   "cell_type": "code",
   "execution_count": 82,
   "metadata": {},
   "outputs": [
    {
     "data": {
      "text/plain": [
       "MLPModel(\n",
       "  (embedding): Embedding(23481, 32)\n",
       "  (hidden_layers): ModuleList(\n",
       "    (0): Linear(in_features=1600, out_features=512, bias=True)\n",
       "    (1): ReLU()\n",
       "  )\n",
       "  (fc): Linear(in_features=512, out_features=726, bias=True)\n",
       ")"
      ]
     },
     "execution_count": 82,
     "metadata": {},
     "output_type": "execute_result"
    }
   ],
   "source": [
    "device_mlp_e32_512 = MLPModel(\n",
    "    vocab_size=len(vocab),\n",
    "    embed_dim=32,\n",
    "    hidden_dims=[512],\n",
    "    seq_length=max_title_token_length,\n",
    "    num_classes=len(categories),\n",
    ")\n",
    "device_mlp_e32_512.to('cuda:0')\n",
    "\n",
    "device_mlp_e32_512"
   ]
  },
  {
   "cell_type": "code",
   "execution_count": 83,
   "metadata": {},
   "outputs": [],
   "source": [
    "device_optimizer_mlp_e32_512 = torch.optim.Adam(device_mlp_e32_512.parameters(), lr=0.001)"
   ]
  },
  {
   "cell_type": "code",
   "execution_count": 84,
   "metadata": {},
   "outputs": [
    {
     "name": "stdout",
     "output_type": "stream",
     "text": [
      "Epoch 0 step 0.0 loss: 6.631504058837891\n",
      "Epoch 0 step 100.0 loss: 5.2066330909729\n",
      "Epoch 0 step 200.0 loss: 4.318513870239258\n",
      "Epoch 0 step 300.0 loss: 3.9002766609191895\n",
      "Epoch 0 step 400.0 loss: 3.5488791465759277\n",
      "Epoch 0 loss: 3.496180772781372  time: 0.67s\n"
     ]
    }
   ],
   "source": [
    "train(device_mlp_e32_512, device_train_inputs, device_train_labels, device_optimizer_mlp_e32_512, batch_size=1024)"
   ]
  },
  {
   "cell_type": "code",
   "execution_count": null,
   "metadata": {},
   "outputs": [],
   "source": []
  }
 ],
 "metadata": {
  "kernelspec": {
   "display_name": "Python 3 (ipykernel)",
   "language": "python",
   "name": "python3"
  },
  "language_info": {
   "codemirror_mode": {
    "name": "ipython",
    "version": 3
   },
   "file_extension": ".py",
   "mimetype": "text/x-python",
   "name": "python",
   "nbconvert_exporter": "python",
   "pygments_lexer": "ipython3",
   "version": "3.8.10"
  }
 },
 "nbformat": 4,
 "nbformat_minor": 4
}
