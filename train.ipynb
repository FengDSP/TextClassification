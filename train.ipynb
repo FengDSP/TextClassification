{
 "cells": [
  {
   "cell_type": "code",
   "execution_count": null,
   "metadata": {},
   "outputs": [],
   "source": [
    "!pip install torch transformers matplotlib"
   ]
  },
  {
   "cell_type": "code",
   "execution_count": 3,
   "metadata": {},
   "outputs": [
    {
     "name": "stderr",
     "output_type": "stream",
     "text": [
      "/usr/local/lib/python3.8/dist-packages/tqdm/auto.py:21: TqdmWarning: IProgress not found. Please update jupyter and ipywidgets. See https://ipywidgets.readthedocs.io/en/stable/user_install.html\n",
      "  from .autonotebook import tqdm as notebook_tqdm\n"
     ]
    }
   ],
   "source": [
    "import pandas as pd\n",
    "import time\n",
    "import torch\n",
    "from torch import nn\n",
    "from collections import defaultdict\n",
    "from matplotlib import pyplot as plt\n",
    "\n",
    "from transformers import BertTokenizer"
   ]
  },
  {
   "cell_type": "markdown",
   "metadata": {},
   "source": [
    "## Prepare data and vocab"
   ]
  },
  {
   "cell_type": "code",
   "execution_count": 4,
   "metadata": {},
   "outputs": [],
   "source": [
    "# First download the dataset from https://www.kaggle.com/datasets/asaniczka/product-titles-text-classification\n",
    "TITLES_TO_CATEGORIES_CSV = './titles_to_categories.csv'"
   ]
  },
  {
   "cell_type": "code",
   "execution_count": 5,
   "metadata": {},
   "outputs": [],
   "source": [
    "df = pd.read_csv(TITLES_TO_CATEGORIES_CSV)"
   ]
  },
  {
   "cell_type": "code",
   "execution_count": 6,
   "metadata": {},
   "outputs": [
    {
     "data": {
      "text/html": [
       "<div>\n",
       "<style scoped>\n",
       "    .dataframe tbody tr th:only-of-type {\n",
       "        vertical-align: middle;\n",
       "    }\n",
       "\n",
       "    .dataframe tbody tr th {\n",
       "        vertical-align: top;\n",
       "    }\n",
       "\n",
       "    .dataframe thead th {\n",
       "        text-align: right;\n",
       "    }\n",
       "</style>\n",
       "<table border=\"1\" class=\"dataframe\">\n",
       "  <thead>\n",
       "    <tr style=\"text-align: right;\">\n",
       "      <th></th>\n",
       "      <th>title</th>\n",
       "      <th>category_name</th>\n",
       "    </tr>\n",
       "  </thead>\n",
       "  <tbody>\n",
       "    <tr>\n",
       "      <th>0</th>\n",
       "      <td>Green Leaf WW3D Wonder Extension Cord Winder, ...</td>\n",
       "      <td>Industrial  Scientific</td>\n",
       "    </tr>\n",
       "    <tr>\n",
       "      <th>1</th>\n",
       "      <td>8pcs Toilet Seat Bumpers Universal Toilet Repl...</td>\n",
       "      <td>Industrial  Scientific</td>\n",
       "    </tr>\n",
       "    <tr>\n",
       "      <th>2</th>\n",
       "      <td>YaeCCC 19 Pcs Hole Saw Kit 3/4''(19mm)- 6''(15...</td>\n",
       "      <td>Industrial  Scientific</td>\n",
       "    </tr>\n",
       "    <tr>\n",
       "      <th>3</th>\n",
       "      <td>LLPT Butyl Putty Tape White 1 Inch x 33Ft Tigh...</td>\n",
       "      <td>Industrial  Scientific</td>\n",
       "    </tr>\n",
       "    <tr>\n",
       "      <th>4</th>\n",
       "      <td>Lightbeam 16\" Long Stem Deep Fry Thermometer w...</td>\n",
       "      <td>Industrial  Scientific</td>\n",
       "    </tr>\n",
       "  </tbody>\n",
       "</table>\n",
       "</div>"
      ],
      "text/plain": [
       "                                               title           category_name\n",
       "0  Green Leaf WW3D Wonder Extension Cord Winder, ...  Industrial  Scientific\n",
       "1  8pcs Toilet Seat Bumpers Universal Toilet Repl...  Industrial  Scientific\n",
       "2  YaeCCC 19 Pcs Hole Saw Kit 3/4''(19mm)- 6''(15...  Industrial  Scientific\n",
       "3  LLPT Butyl Putty Tape White 1 Inch x 33Ft Tigh...  Industrial  Scientific\n",
       "4  Lightbeam 16\" Long Stem Deep Fry Thermometer w...  Industrial  Scientific"
      ]
     },
     "execution_count": 6,
     "metadata": {},
     "output_type": "execute_result"
    }
   ],
   "source": [
    "df.head()"
   ]
  },
  {
   "cell_type": "code",
   "execution_count": 7,
   "metadata": {},
   "outputs": [],
   "source": [
    "# Debugging\n",
    "df = df.sample(frac=0.1).reset_index(drop=True)"
   ]
  },
  {
   "cell_type": "code",
   "execution_count": 8,
   "metadata": {},
   "outputs": [
    {
     "data": {
      "text/plain": [
       "538990"
      ]
     },
     "execution_count": 8,
     "metadata": {},
     "output_type": "execute_result"
    }
   ],
   "source": [
    "len(df)"
   ]
  },
  {
   "cell_type": "code",
   "execution_count": 9,
   "metadata": {},
   "outputs": [
    {
     "data": {
      "text/plain": [
       "category_name\n",
       "Sports & Outdoors              72251\n",
       "Baby                            3723\n",
       "Men's Shoes                     3240\n",
       "Women's Handbags                2907\n",
       "Handmade Jewellery              2845\n",
       "                               ...  \n",
       "Automotive Tires  Wheels        1014\n",
       "Arts  Crafts Supplies           1003\n",
       "RV Parts  Accessories           1000\n",
       "Building  Construction Toys      991\n",
       "Dolls  Accessories               974\n",
       "Name: count, Length: 100, dtype: int64"
      ]
     },
     "execution_count": 9,
     "metadata": {},
     "output_type": "execute_result"
    }
   ],
   "source": [
    "df['category_name'].value_counts()[:100]"
   ]
  },
  {
   "cell_type": "code",
   "execution_count": null,
   "metadata": {},
   "outputs": [],
   "source": [
    "categories = df['category_name'].unique()\n",
    "print(f'Number of categories: {len(categories)}')\n",
    "# categories"
   ]
  },
  {
   "cell_type": "code",
   "execution_count": 11,
   "metadata": {},
   "outputs": [
    {
     "name": "stderr",
     "output_type": "stream",
     "text": [
      "tokenizer_config.json: 100%|██████████| 28.0/28.0 [00:00<00:00, 7.58kB/s]\n",
      "vocab.txt: 100%|██████████| 232k/232k [00:00<00:00, 12.8MB/s]\n",
      "tokenizer.json: 100%|██████████| 466k/466k [00:00<00:00, 54.5MB/s]\n",
      "config.json: 100%|██████████| 570/570 [00:00<00:00, 293kB/s]\n"
     ]
    }
   ],
   "source": [
    "tokenizer = BertTokenizer.from_pretrained(\"bert-base-uncased\")"
   ]
  },
  {
   "cell_type": "code",
   "execution_count": 12,
   "metadata": {},
   "outputs": [
    {
     "data": {
      "text/plain": [
       "['i', 'have', 'a', 'new', 'gp', '##u', '!']"
      ]
     },
     "execution_count": 12,
     "metadata": {},
     "output_type": "execute_result"
    }
   ],
   "source": [
    "tokenizer.tokenize(\"I have a new GPU!\")"
   ]
  },
  {
   "cell_type": "code",
   "execution_count": 13,
   "metadata": {},
   "outputs": [],
   "source": [
    "df[\"tokenized_title\"] = df[\"title\"].apply(lambda title: tokenizer.tokenize(title))"
   ]
  },
  {
   "cell_type": "code",
   "execution_count": 14,
   "metadata": {},
   "outputs": [],
   "source": [
    "df[\"category_label\"] = df[\"category_name\"].apply(lambda category: categories.tolist().index(category))"
   ]
  },
  {
   "cell_type": "code",
   "execution_count": 15,
   "metadata": {},
   "outputs": [
    {
     "data": {
      "text/html": [
       "<div>\n",
       "<style scoped>\n",
       "    .dataframe tbody tr th:only-of-type {\n",
       "        vertical-align: middle;\n",
       "    }\n",
       "\n",
       "    .dataframe tbody tr th {\n",
       "        vertical-align: top;\n",
       "    }\n",
       "\n",
       "    .dataframe thead th {\n",
       "        text-align: right;\n",
       "    }\n",
       "</style>\n",
       "<table border=\"1\" class=\"dataframe\">\n",
       "  <thead>\n",
       "    <tr style=\"text-align: right;\">\n",
       "      <th></th>\n",
       "      <th>title</th>\n",
       "      <th>category_name</th>\n",
       "      <th>tokenized_title</th>\n",
       "      <th>category_label</th>\n",
       "    </tr>\n",
       "  </thead>\n",
       "  <tbody>\n",
       "    <tr>\n",
       "      <th>162</th>\n",
       "      <td>AnubisGX Premium White RGB Mouse Pad | XL Wate...</td>\n",
       "      <td>Game Hardware</td>\n",
       "      <td>[an, ##ub, ##is, ##g, ##x, premium, white, r, ...</td>\n",
       "      <td>119</td>\n",
       "    </tr>\n",
       "    <tr>\n",
       "      <th>599</th>\n",
       "      <td>ASUS ROG Gladius II Origin Wired USB Optical E...</td>\n",
       "      <td>Game Hardware</td>\n",
       "      <td>[as, ##us, ro, ##g, glad, ##ius, ii, origin, w...</td>\n",
       "      <td>119</td>\n",
       "    </tr>\n",
       "    <tr>\n",
       "      <th>770</th>\n",
       "      <td>Mouse Skates / Mice Feet for Alienware 610M 51...</td>\n",
       "      <td>Game Hardware</td>\n",
       "      <td>[mouse, skate, ##s, /, mice, feet, for, alien,...</td>\n",
       "      <td>119</td>\n",
       "    </tr>\n",
       "    <tr>\n",
       "      <th>938</th>\n",
       "      <td>Kailh GM 4.0 Micro Switch 60M Life Gaming Mous...</td>\n",
       "      <td>Game Hardware</td>\n",
       "      <td>[kai, ##l, ##h, gm, 4, ., 0, micro, switch, 60...</td>\n",
       "      <td>119</td>\n",
       "    </tr>\n",
       "    <tr>\n",
       "      <th>1863</th>\n",
       "      <td>AJAZZ K3 Wired Mechanical Gaming Keyboard,98-K...</td>\n",
       "      <td>Game Hardware</td>\n",
       "      <td>[aj, ##az, ##z, k, ##3, wired, mechanical, gam...</td>\n",
       "      <td>119</td>\n",
       "    </tr>\n",
       "  </tbody>\n",
       "</table>\n",
       "</div>"
      ],
      "text/plain": [
       "                                                  title  category_name  \\\n",
       "162   AnubisGX Premium White RGB Mouse Pad | XL Wate...  Game Hardware   \n",
       "599   ASUS ROG Gladius II Origin Wired USB Optical E...  Game Hardware   \n",
       "770   Mouse Skates / Mice Feet for Alienware 610M 51...  Game Hardware   \n",
       "938   Kailh GM 4.0 Micro Switch 60M Life Gaming Mous...  Game Hardware   \n",
       "1863  AJAZZ K3 Wired Mechanical Gaming Keyboard,98-K...  Game Hardware   \n",
       "\n",
       "                                        tokenized_title  category_label  \n",
       "162   [an, ##ub, ##is, ##g, ##x, premium, white, r, ...             119  \n",
       "599   [as, ##us, ro, ##g, glad, ##ius, ii, origin, w...             119  \n",
       "770   [mouse, skate, ##s, /, mice, feet, for, alien,...             119  \n",
       "938   [kai, ##l, ##h, gm, 4, ., 0, micro, switch, 60...             119  \n",
       "1863  [aj, ##az, ##z, k, ##3, wired, mechanical, gam...             119  "
      ]
     },
     "execution_count": 15,
     "metadata": {},
     "output_type": "execute_result"
    }
   ],
   "source": [
    "df[df[\"category_name\"] == \"Game Hardware\"].head()"
   ]
  },
  {
   "cell_type": "code",
   "execution_count": 16,
   "metadata": {},
   "outputs": [],
   "source": [
    "# split the dataset into train and test\n",
    "train_df = df.sample(frac=0.8, random_state=42)\n",
    "test_df = df.drop(train_df.index)"
   ]
  },
  {
   "cell_type": "code",
   "execution_count": 17,
   "metadata": {},
   "outputs": [],
   "source": [
    "vocab_counts = defaultdict(lambda: 0)\n",
    "for tokenized_title in df[\"tokenized_title\"]:\n",
    "    for token in tokenized_title:\n",
    "        vocab_counts[token] += 1"
   ]
  },
  {
   "cell_type": "code",
   "execution_count": 18,
   "metadata": {},
   "outputs": [],
   "source": [
    "tokens_by_count = sorted([(v, i) for v, i in vocab_counts.items()], key=lambda x: x[1], reverse=True)\n",
    "tokens_by_count = [('[PAD]', 0)] + tokens_by_count  # 0 is reserved for padding\n",
    "vocab = {token: i for i, (token, _) in enumerate(tokens_by_count)}"
   ]
  },
  {
   "cell_type": "code",
   "execution_count": 19,
   "metadata": {},
   "outputs": [
    {
     "data": {
      "text/plain": [
       "23481"
      ]
     },
     "execution_count": 19,
     "metadata": {},
     "output_type": "execute_result"
    }
   ],
   "source": [
    "len(vocab)"
   ]
  },
  {
   "cell_type": "code",
   "execution_count": 20,
   "metadata": {},
   "outputs": [
    {
     "data": {
      "image/png": "[encoded data removed]",
      "text/plain": [
       "<Figure size 640x480 with 1 Axes>"
      ]
     },
     "metadata": {},
     "output_type": "display_data"
    }
   ],
   "source": [
    "plt.hist([len(tokenized_title) for tokenized_title in df[\"tokenized_title\"]], bins=100)\n",
    "plt.show()"
   ]
  },
  {
   "cell_type": "code",
   "execution_count": 21,
   "metadata": {},
   "outputs": [],
   "source": [
    "max_title_token_length = 50"
   ]
  },
  {
   "cell_type": "code",
   "execution_count": 22,
   "metadata": {},
   "outputs": [],
   "source": [
    "def get_input_tensor(df, seq_len, vocab):\n",
    "    df = df.reset_index(drop=True)\n",
    "    data_tensor = torch.zeros((len(df), seq_len), dtype=torch.long)\n",
    "    for i, row in df.iterrows():\n",
    "        title = row[\"tokenized_title\"]\n",
    "        title = title[:seq_len]\n",
    "        padded_title = title + [\"[PAD]\"] * (seq_len - len(title))\n",
    "        for j, token in enumerate(padded_title):\n",
    "            data_tensor[i][j] = vocab[token]\n",
    "    return data_tensor\n",
    "\n",
    "\n",
    "def get_label_tensor(df):\n",
    "    return torch.tensor(df[\"category_label\"].tolist())\n",
    "\n",
    "train_input_tensor = get_input_tensor(train_df, max_title_token_length, vocab)\n",
    "train_label_tensor = get_label_tensor(train_df)\n",
    "test_input_tensor = get_input_tensor(test_df, max_title_token_length, vocab)\n",
    "test_label_tensor = get_label_tensor(test_df)"
   ]
  },
  {
   "cell_type": "markdown",
   "metadata": {},
   "source": [
    "## CPU Training"
   ]
  },
  {
   "cell_type": "code",
   "execution_count": null,
   "metadata": {},
   "outputs": [],
   "source": [
    "class MLPModel(nn.Module):\n",
    "    def __init__(self, vocab_size, embed_dim, hidden_dims, seq_length, num_classes):\n",
    "        super().__init__()\n",
    "        self.embedding = nn.Embedding(vocab_size, embed_dim)\n",
    "        hidden_layers = []\n",
    "        for fan_in_dim, fan_out_dim in zip([embed_dim * seq_length] + hidden_dims[:-1], hidden_dims):\n",
    "            hidden_layers.extend([\n",
    "                nn.Linear(fan_in_dim, fan_out_dim),\n",
    "                nn.ReLU(),\n",
    "            ])\n",
    "        self.hidden_layers = nn.ModuleList(hidden_layers)\n",
    "        fc_fan_in_dim = hidden_dims[-1] if hidden_dims else embed_dim\n",
    "        self.fc = nn.Linear(fc_fan_in_dim, num_classes)\n",
    "\n",
    "    def forward(self, x):\n",
    "        # print(f\"input shape={x.shape}\")\n",
    "        x = self.embedding(x)\n",
    "        # print(f\"embedding shape={x.shape}\")\n",
    "        x = torch.reshape(x, x.shape[:-2] + (-1,))\n",
    "        # print(f\"concated shape={x.shape}\")\n",
    "        for hidden_layer in self.hidden_layers:\n",
    "            x = hidden_layer(x)\n",
    "        # print(f\"last layer shape={x.shape}\")\n",
    "        x = self.fc(x)\n",
    "        # print(f\"output shape={x.shape}\")\n",
    "        return x"
   ]
  },
  {
   "cell_type": "code",
   "execution_count": 76,
   "metadata": {},
   "outputs": [
    {
     "data": {
      "text/plain": [
       "MLPModel(\n",
       "  (embedding): Embedding(23481, 32)\n",
       "  (hidden_layers): ModuleList(\n",
       "    (0): Linear(in_features=1600, out_features=512, bias=True)\n",
       "    (1): ReLU()\n",
       "  )\n",
       "  (fc): Linear(in_features=512, out_features=726, bias=True)\n",
       ")"
      ]
     },
     "execution_count": 76,
     "metadata": {},
     "output_type": "execute_result"
    }
   ],
   "source": [
    "mlp_e32_512 = MLPModel(\n",
    "    vocab_size=len(vocab),\n",
    "    embed_dim=32,\n",
    "    hidden_dims=[512],\n",
    "    seq_length=max_title_token_length,\n",
    "    num_classes=len(categories),\n",
    ")\n",
    "\n",
    "mlp_e32_512"
   ]
  },
  {
   "cell_type": "code",
   "execution_count": 77,
   "metadata": {},
   "outputs": [],
   "source": [
    "optimizer_mlp_e32_512 = torch.optim.Adam(mlp_e32_512.parameters(), lr=0.001)"
   ]
  },
  {
   "cell_type": "code",
   "execution_count": 78,
   "metadata": {},
   "outputs": [],
   "source": [
    "def train(model, input_tensor, label_tensor, optimizer, batch_size=256, epochs=1, steps=None):\n",
    "    loss_fn = nn.CrossEntropyLoss()\n",
    "    for epoch in range(epochs):\n",
    "        model.train()\n",
    "        start_time = time.time()\n",
    "        for i in range(0, input_tensor.shape[0], batch_size):\n",
    "            batch_input_tensor = input_tensor[i:i+batch_size]\n",
    "            # print(f\"batch_input_tensor.shape={batch_input_tensor.shape}\")\n",
    "            batch_label_tensor = label_tensor[i:i+batch_size]\n",
    "            # print(f\"batch_label_tensor.shape={batch_label_tensor.shape}\")\n",
    "            optimizer.zero_grad()\n",
    "            output = model(batch_input_tensor)\n",
    "            # print(f\"output.shape={output.shape}\")\n",
    "            loss = loss_fn(output, batch_label_tensor).mean()\n",
    "            # print(f\"loss.shape={loss.shape}\")\n",
    "            loss.backward()\n",
    "            optimizer.step()\n",
    "            # break\n",
    "            if i / batch_size % 100 == 0:\n",
    "                print(f\"Epoch {epoch} step {i / batch_size} loss: {loss.item()}\")\n",
    "            if steps and i >= steps:\n",
    "                    break\n",
    "        end_time = time.time()\n",
    "        print(f\"Epoch {epoch} loss: {loss.item()}  time: {(end_time - start_time):.2f}s\")\n",
    "        # break\n",
    "    return\n",
    "\n",
    "\n",
    "def eval(model, input_tensor, label_tensor):\n",
    "    model.eval()\n",
    "    with torch.no_grad():\n",
    "        output = model(input_tensor)\n",
    "        pred = output.argmax(dim=1, keepdim=True)\n",
    "        correct = pred.eq(label_tensor.view_as(pred)).type(torch.float).mean()\n",
    "    print(f\"Accuracy: {correct.item() * 100:.2f}%\")"
   ]
  },
  {
   "cell_type": "code",
   "execution_count": 79,
   "metadata": {},
   "outputs": [
    {
     "name": "stdout",
     "output_type": "stream",
     "text": [
      "Epoch 0 step 0.0 loss: 6.5987629890441895\n",
      "Epoch 0 step 100.0 loss: 5.268423080444336\n",
      "Epoch 0 step 200.0 loss: 4.471011638641357\n",
      "Epoch 0 step 300.0 loss: 3.885913848876953\n",
      "Epoch 0 step 400.0 loss: 3.60478138923645\n",
      "Epoch 0 loss: 3.659503936767578  time: 4.74s\n"
     ]
    }
   ],
   "source": [
    "train(mlp_e32_512, train_input_tensor, train_label_tensor, optimizer_mlp_e32_512, batch_size=1024)"
   ]
  },
  {
   "cell_type": "code",
   "execution_count": 26,
   "metadata": {},
   "outputs": [
    {
     "name": "stdout",
     "output_type": "stream",
     "text": [
      "Evaluating on train set:\n",
      "Accuracy: 35.68%\n",
      "\n",
      "Evaluating on test set:\n",
      "Accuracy: 31.71%\n"
     ]
    }
   ],
   "source": [
    "print(\"Evaluating on train set:\")\n",
    "eval(mlp_e32_512, train_input_tensor, train_label_tensor)\n",
    "\n",
    "print()\n",
    "print(\"Evaluating on test set:\")\n",
    "eval(mlp_e32_512, test_input_tensor, test_label_tensor)"
   ]
  },
  {
   "cell_type": "code",
   "execution_count": 80,
   "metadata": {},
   "outputs": [
    {
     "data": {
      "text/plain": [
       "1943542"
      ]
     },
     "execution_count": 80,
     "metadata": {},
     "output_type": "execute_result"
    }
   ],
   "source": [
    "sum([p.numel() for p in mlp_e32_512.parameters()])"
   ]
  },
  {
   "cell_type": "markdown",
   "metadata": {},
   "source": [
    "## Single GPU Training"
   ]
  },
  {
   "cell_type": "code",
   "execution_count": 81,
   "metadata": {},
   "outputs": [
    {
     "data": {
      "text/plain": [
       "True"
      ]
     },
     "execution_count": 81,
     "metadata": {},
     "output_type": "execute_result"
    }
   ],
   "source": [
    "torch.cuda.is_available()"
   ]
  },
  {
   "cell_type": "code",
   "execution_count": 29,
   "metadata": {},
   "outputs": [],
   "source": [
    "device_train_labels = train_label_tensor.to('cuda:0')"
   ]
  },
  {
   "cell_type": "code",
   "execution_count": 30,
   "metadata": {},
   "outputs": [],
   "source": [
    "device_train_inputs = train_input_tensor.to('cuda:0')"
   ]
  },
  {
   "cell_type": "code",
   "execution_count": 82,
   "metadata": {},
   "outputs": [
    {
     "data": {
      "text/plain": [
       "MLPModel(\n",
       "  (embedding): Embedding(23481, 32)\n",
       "  (hidden_layers): ModuleList(\n",
       "    (0): Linear(in_features=1600, out_features=512, bias=True)\n",
       "    (1): ReLU()\n",
       "  )\n",
       "  (fc): Linear(in_features=512, out_features=726, bias=True)\n",
       ")"
      ]
     },
     "execution_count": 82,
     "metadata": {},
     "output_type": "execute_result"
    }
   ],
   "source": [
    "device_mlp_e32_512 = MLPModel(\n",
    "    vocab_size=len(vocab),\n",
    "    embed_dim=32,\n",
    "    hidden_dims=[512],\n",
    "    seq_length=max_title_token_length,\n",
    "    num_classes=len(categories),\n",
    ")\n",
    "device_mlp_e32_512.to('cuda:0')\n",
    "\n",
    "device_mlp_e32_512"
   ]
  },
  {
   "cell_type": "code",
   "execution_count": 83,
   "metadata": {},
   "outputs": [],
   "source": [
    "device_optimizer_mlp_e32_512 = torch.optim.Adam(device_mlp_e32_512.parameters(), lr=0.001)"
   ]
  },
  {
   "cell_type": "code",
   "execution_count": 84,
   "metadata": {},
   "outputs": [
    {
     "name": "stdout",
     "output_type": "stream",
     "text": [
      "Epoch 0 step 0.0 loss: 6.631504058837891\n",
      "Epoch 0 step 100.0 loss: 5.2066330909729\n",
      "Epoch 0 step 200.0 loss: 4.318513870239258\n",
      "Epoch 0 step 300.0 loss: 3.9002766609191895\n",
      "Epoch 0 step 400.0 loss: 3.5488791465759277\n",
      "Epoch 0 loss: 3.496180772781372  time: 0.67s\n"
     ]
    }
   ],
   "source": [
    "train(device_mlp_e32_512, device_train_inputs, device_train_labels, device_optimizer_mlp_e32_512, batch_size=1024)"
   ]
  }
 ],
 "metadata": {
  "kernelspec": {
   "display_name": "Python 3 (ipykernel)",
   "language": "python",
   "name": "python3"
  },
  "language_info": {
   "codemirror_mode": {
    "name": "ipython",
    "version": 3
   },
   "file_extension": ".py",
   "mimetype": "text/x-python",
   "name": "python",
   "nbconvert_exporter": "python",
   "pygments_lexer": "ipython3",
   "version": "3.8.10"
  }
 },
 "nbformat": 4,
 "nbformat_minor": 4
}
