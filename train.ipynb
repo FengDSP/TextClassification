{
 "cells": [
  {
   "cell_type": "code",
   "execution_count": 166,
   "metadata": {},
   "outputs": [],
   "source": [
    "import pandas as pd\n",
    "import time\n",
    "import torch\n",
    "from torch import nn\n",
    "from collections import defaultdict\n",
    "from matplotlib import pyplot as plt\n",
    "\n",
    "from transformers import BertTokenizer"
   ]
  },
  {
   "cell_type": "code",
   "execution_count": 4,
   "metadata": {},
   "outputs": [],
   "source": [
    "# First download the dataset from https://www.kaggle.com/datasets/asaniczka/product-titles-text-classification\n",
    "TITLES_TO_CATEGORIES_CSV = './titles_to_categories.csv'"
   ]
  },
  {
   "cell_type": "code",
   "execution_count": 118,
   "metadata": {},
   "outputs": [],
   "source": [
    "df = pd.read_csv(TITLES_TO_CATEGORIES_CSV)"
   ]
  },
  {
   "cell_type": "code",
   "execution_count": 119,
   "metadata": {},
   "outputs": [
    {
     "data": {
      "text/html": [
       "<div>\n",
       "<style scoped>\n",
       "    .dataframe tbody tr th:only-of-type {\n",
       "        vertical-align: middle;\n",
       "    }\n",
       "\n",
       "    .dataframe tbody tr th {\n",
       "        vertical-align: top;\n",
       "    }\n",
       "\n",
       "    .dataframe thead th {\n",
       "        text-align: right;\n",
       "    }\n",
       "</style>\n",
       "<table border=\"1\" class=\"dataframe\">\n",
       "  <thead>\n",
       "    <tr style=\"text-align: right;\">\n",
       "      <th></th>\n",
       "      <th>title</th>\n",
       "      <th>category_name</th>\n",
       "    </tr>\n",
       "  </thead>\n",
       "  <tbody>\n",
       "    <tr>\n",
       "      <th>0</th>\n",
       "      <td>Green Leaf WW3D Wonder Extension Cord Winder, ...</td>\n",
       "      <td>Industrial  Scientific</td>\n",
       "    </tr>\n",
       "    <tr>\n",
       "      <th>1</th>\n",
       "      <td>8pcs Toilet Seat Bumpers Universal Toilet Repl...</td>\n",
       "      <td>Industrial  Scientific</td>\n",
       "    </tr>\n",
       "    <tr>\n",
       "      <th>2</th>\n",
       "      <td>YaeCCC 19 Pcs Hole Saw Kit 3/4''(19mm)- 6''(15...</td>\n",
       "      <td>Industrial  Scientific</td>\n",
       "    </tr>\n",
       "    <tr>\n",
       "      <th>3</th>\n",
       "      <td>LLPT Butyl Putty Tape White 1 Inch x 33Ft Tigh...</td>\n",
       "      <td>Industrial  Scientific</td>\n",
       "    </tr>\n",
       "    <tr>\n",
       "      <th>4</th>\n",
       "      <td>Lightbeam 16\" Long Stem Deep Fry Thermometer w...</td>\n",
       "      <td>Industrial  Scientific</td>\n",
       "    </tr>\n",
       "  </tbody>\n",
       "</table>\n",
       "</div>"
      ],
      "text/plain": [
       "                                               title           category_name\n",
       "0  Green Leaf WW3D Wonder Extension Cord Winder, ...  Industrial  Scientific\n",
       "1  8pcs Toilet Seat Bumpers Universal Toilet Repl...  Industrial  Scientific\n",
       "2  YaeCCC 19 Pcs Hole Saw Kit 3/4''(19mm)- 6''(15...  Industrial  Scientific\n",
       "3  LLPT Butyl Putty Tape White 1 Inch x 33Ft Tigh...  Industrial  Scientific\n",
       "4  Lightbeam 16\" Long Stem Deep Fry Thermometer w...  Industrial  Scientific"
      ]
     },
     "execution_count": 119,
     "metadata": {},
     "output_type": "execute_result"
    }
   ],
   "source": [
    "df.head()"
   ]
  },
  {
   "cell_type": "code",
   "execution_count": 120,
   "metadata": {},
   "outputs": [],
   "source": [
    "# Debugging\n",
    "df = df.sample(frac=0.1).reset_index(drop=True)"
   ]
  },
  {
   "cell_type": "code",
   "execution_count": 121,
   "metadata": {},
   "outputs": [
    {
     "data": {
      "text/plain": [
       "538990"
      ]
     },
     "execution_count": 121,
     "metadata": {},
     "output_type": "execute_result"
    }
   ],
   "source": [
    "len(df)"
   ]
  },
  {
   "cell_type": "code",
   "execution_count": 122,
   "metadata": {},
   "outputs": [
    {
     "data": {
      "text/plain": [
       "Sports & Outdoors                       71999\n",
       "Baby                                     3696\n",
       "Men's Shoes                              3242\n",
       "Women's Handbags                         3019\n",
       "Women's Shoes                            2940\n",
       "                                        ...  \n",
       "Hunting  Fishing                         1006\n",
       "Snow  Ice Sports                         1005\n",
       "Occupational Health  Safety Products     1004\n",
       "Tattooing Supplies                       1001\n",
       "RV Parts  Accessories                    1000\n",
       "Name: category_name, Length: 100, dtype: int64"
      ]
     },
     "execution_count": 122,
     "metadata": {},
     "output_type": "execute_result"
    }
   ],
   "source": [
    "df['category_name'].value_counts()[:100]"
   ]
  },
  {
   "cell_type": "code",
   "execution_count": 123,
   "metadata": {},
   "outputs": [
    {
     "name": "stdout",
     "output_type": "stream",
     "text": [
      "Number of categories: 726\n"
     ]
    },
    {
     "data": {
      "text/plain": [
       "array([\"Girls' Clothing\", 'Sports & Outdoors', 'Computers & Tablets',\n",
       "       'Computer Audio  Video Accessories', 'Mobile Phones & Smartphones',\n",
       "       'Welding & Soldering', 'Baby  Child Care Products',\n",
       "       '3D Printing  Scanning', \"Women's Accessories\",\n",
       "       'Handmade Home Décor', 'Automotive Tires & Wheels',\n",
       "       'Diet  Nutrition Products', 'Tricycles, Scooters & Wagons',\n",
       "       'Computer Audio & Video Accessories', \"Men's Accessories\",\n",
       "       'Toy Vehicles', 'Computers', 'Cables & Accessories',\n",
       "       'Kites  Wind Spinners', 'Camping  Hiking Equipment',\n",
       "       'Power Transmission Products', 'Boys',\n",
       "       'School & Educational Supplies', 'Karaoke Equipment',\n",
       "       'Hallway Furniture', 'Indoor Lighting', 'Kitchen Cookware',\n",
       "       'Laptop Bags', 'Baby Strollers & Accessories',\n",
       "       'Nail Polish  Nail Decoration Products', 'Health  Personal Care',\n",
       "       'Tablet Replacement Parts', 'Scanners & Accessories',\n",
       "       'Baby Care Products', 'Pet Supplies', 'CD, Disc & Tape Players',\n",
       "       'Grocery', 'Handmade Clothing, Shoes & Accessories',\n",
       "       'Automotive Replacement Parts', 'Heating, Cooling & Air Quality',\n",
       "       'Child Safety Car Seats', \"Baby Boys' Clothing & Shoes\",\n",
       "       \"Men's Clothing\", 'Window Hardware', 'Tablets',\n",
       "       'Luggage and travel gear', 'Slot Cars, Race Tracks & Accessories',\n",
       "       'Headphones & Earphones', 'Action Figures, Maquettes  Busts',\n",
       "       'Medical Supplies  Equipment', 'Bath & Body',\n",
       "       'Kitchen Tools & Gadgets', 'Shaving  Hair Removal Products',\n",
       "       'Motorcycle & Powersports', 'Occupational Health  Safety Products',\n",
       "       'Patio, Lawn  Garden', 'Industrial Hardware',\n",
       "       'Basketball Footwear', 'Handmade in Canada', 'Handmade Jewellery',\n",
       "       'Skin Care Products', 'Kitchen  Bath Fixtures',\n",
       "       'Kitchen & Bath Fixtures', 'Arts & Crafts Supplies',\n",
       "       'Building Supplies', 'Cutting Tools', 'Automotive Tires  Wheels',\n",
       "       'Women', 'Office Paper Products', 'Beauty & Personal Care',\n",
       "       'Hand Tools', 'Keyboards, Mice & Input Devices',\n",
       "       'Vitamins, Minerals  Supplements', 'Games & Game Accessories',\n",
       "       'Cat Supplies', 'KVM Switches', 'Abrasive  Finishing Products',\n",
       "       'Vacuums & Floorcare', 'Computer Cable Adapters', 'Hardware Hooks',\n",
       "       'Toys & Games', 'Shelf Brackets  Supports',\n",
       "       \"Kids' Art & Craft Supplies\", 'Handmade Kitchen  Dining',\n",
       "       'Tarps  Tie-Downs', 'Food Service Equipment & Supplies',\n",
       "       'Hardware', 'Makeup', 'Perfume  Cologne',\n",
       "       \"Women's Health  Family Planning\", \"Kids' Play Vehicles\",\n",
       "       'Travel Tote Bags', 'Large Appliances', 'Baby & Toddler Toys',\n",
       "       'Collectible Toys', 'Snow  Ice Sports', 'Travel Accessories',\n",
       "       'Automotive Exterior Accessories',\n",
       "       'Nintendo Switch Consoles, Games & Accessories', 'Bowling',\n",
       "       \"Women's Jewelry\", 'Surveillance Cameras', 'Skin Care',\n",
       "       'Building & Construction Toys', 'Snow Sledding Equipment',\n",
       "       'Hobbies', 'Party Decorations', 'Sexual Wellness Products',\n",
       "       'Weather Thermometers', 'Handmade Gifts',\n",
       "       'PlayStation 4 Games, Consoles & Accessories',\n",
       "       'Motorbike Handlebars, Controls & Grips',\n",
       "       'Knitting & Crochet Supplies', 'PC & Video Games',\n",
       "       'Laptop  Netbook Computer Accessories', 'Accessories & Supplies',\n",
       "       'Kitchen Knives  Cutlery Accessories', 'Luggage  Travel Gear',\n",
       "       'Computer Components', 'Hi-Fi & Home Audio Accessories', 'Make-up',\n",
       "       'Telephones, VoIP & Accessories', 'Home Storage & Organization',\n",
       "       'Building Materials', 'Material Transport Equipment',\n",
       "       'Radios & Boomboxes', 'Garage Door Hardware', 'Memory Cards',\n",
       "       'Dolls & Accessories', \"Women's Watches\", 'Salon  Spa Equipment',\n",
       "       'Beanbag  Foot Bags', 'Bubble Blowing Products', 'Camera  Photo',\n",
       "       \"Kids' Party Supplies\",\n",
       "       'Household Batteries, Chargers & Accessories',\n",
       "       'Motorcycle Accessories  Parts', 'Garden Décor', \"Boys' Clothing\",\n",
       "       'Soft Toys', 'Office Electronics', 'Bedroom Furniture',\n",
       "       'Computer Monitors', 'Wii U Games, Consoles & Accessories',\n",
       "       \"Kids' Play Cars & Race Cars\", \"Men's Jewelry\",\n",
       "       'Novelty Toys & Amusements', 'Projectors',\n",
       "       'Shoe, Jewelry  Watch Accessories',\n",
       "       'Reptiles & Amphibian Supplies', 'Industrial Materials',\n",
       "       'Home  Portable Audio', 'Automotive Interior Accessories',\n",
       "       'Material Handling', 'Sports & Fitness',\n",
       "       'Keyboards, Mice  Input Devices', 'Small Kitchen Appliances',\n",
       "       'Laundry Supplies', 'Media Streaming Devices', 'Printers',\n",
       "       'Living Room Furniture', 'Outdoor Cooking',\n",
       "       'Equestrian Sports Boots', 'Climbing Footwear', \"Men's Watches\",\n",
       "       'Printers & Accessories', 'Needlework Supplies',\n",
       "       'Home Cinema, TV & Video', 'Fasteners',\n",
       "       'Wellness & Relaxation Products', 'Toy Sports Equipment',\n",
       "       'Jigsaws & Puzzles', 'Computer Uninterrupted Power Supply', 'Baby',\n",
       "       \"Women's Shoes\", 'Audio/Video Receivers  Amplifiers',\n",
       "       \"Kids' Electronics\", 'Home Audio Speakers', 'Breakfast Cereal',\n",
       "       'Beauty', 'Oils  Fluids', 'Motorbike Electrical & Batteries',\n",
       "       'Vision Products', 'Home Appliances',\n",
       "       'Novelty  Special Use Clothing', 'Backpacks',\n",
       "       'Patio Furniture  Accessories', 'Bath Products',\n",
       "       'Cigarette Lighters', 'Beer, Wine & Spirits', 'Lenses',\n",
       "       'Home Theatre Systems', 'Commercial Door Products', 'Hair Care',\n",
       "       'Construction Machinery', 'Filtration',\n",
       "       'Kitchen Utensils  Gadgets', 'Janitorial  Sanitation Supplies',\n",
       "       'Musical Instruments, Stage  Studio', 'Baby Strollers', 'Men',\n",
       "       'Foot, Hand & Nail Care Products',\n",
       "       'Portable Sound & Video Products', 'Portable Audio & Video',\n",
       "       'USB Hubs', 'Handmade Kitchen & Dining', 'Data Storage',\n",
       "       'Sport Specific Clothing', 'Electrical Equipment',\n",
       "       \"Customers' Most Loved\", 'Hair Care Products', 'Furniture',\n",
       "       'Computer Networking', 'Ballet & Dancing Footwear',\n",
       "       'Sports & Outdoor Play Toys', \"Men's Shoes\",\n",
       "       'Digital Media Devices',\n",
       "       'Industrial Adhesives, Sealants & Lubricants',\n",
       "       'Televisions  Video', 'Leisure Sports  Game Room', 'Microphones',\n",
       "       'Learning & Education Toys', 'Network Cards', 'Laptops',\n",
       "       'Home  Kitchen', 'Handmade', 'Health & Personal Care',\n",
       "       'Storage & Organisation', 'Paper  Plastic Household Supplies',\n",
       "       'Beading & Jewelry Making', 'String Lights', \"Girls' Jewelry\",\n",
       "       'Fragrances', 'Coffee, Tea  Espresso', 'Handmade Artwork',\n",
       "       'Outdoor Décor', 'Manicure & Pedicure Products',\n",
       "       'House Numbers, Plaques  Signs', 'Uniforms, Work  Safety',\n",
       "       'Food Service Equipment  Supplies', 'Motorbike Lighting',\n",
       "       'Dolls  Accessories', 'Printer Accessories', 'Light Bulbs',\n",
       "       'Scrapbooking & Stamping Supplies',\n",
       "       'Play Sets  Playground Equipment', 'Sports Supplements',\n",
       "       'Vision Care Products', 'Camera & Photo Accessories',\n",
       "       'Stuffed  Plush Animals', \"Kids' Home Store\", 'Household Supplies',\n",
       "       'Sporting Apparel', 'Electronics', 'Safety & Security',\n",
       "       'Power Tools & Hand Tools', 'Car & Motorbike',\n",
       "       'Networking Products', \"Women's Clothing\", 'Headphones & Earbuds',\n",
       "       'DVD Players  Recorders', 'Car & Vehicle Electronics', 'Awards',\n",
       "       'Electronics  Gadgets', 'Pools, Hot Tubs & Supplies', 'Automotive',\n",
       "       'Desktop Computers', 'Fresh Flowers  Indoor Plants',\n",
       "       'Professional Dental Supplies', 'Gift Wrapping Supplies',\n",
       "       'Handmade Home & Kitchen Products', 'Downhill Ski Boots',\n",
       "       'Automotive Tools  Equipment',\n",
       "       'Uninterruptible Power Supply Units & Accessories',\n",
       "       'Xbox Series X & S Consoles, Games & Accessories',\n",
       "       \"Kids' Furniture\", 'Mattress Pads & Toppers',\n",
       "       'Lights, Bulbs & Indicators', 'Tablet Accessories',\n",
       "       \"Kids' Play Tents  Tunnels\", 'Fish & Aquatic Pets',\n",
       "       'Printmaking Supplies', 'Sony PSP Games, Consoles & Accessories',\n",
       "       'Outdoor Heating  Cooling', 'Furniture Hardware',\n",
       "       'Home Décor Products', 'Household Cleaning Tools', 'Girls',\n",
       "       'Seasonal Décor', \"Women's Handbags\", 'Barebone PCs',\n",
       "       'Fireplaces, Stoves & Accessories', 'Backyard Birding',\n",
       "       'Satellite Television Equipment', 'Computer Monitor Accessories',\n",
       "       'Car Electronics  Accessories', 'Bathroom Hardware',\n",
       "       'Packaging & Shipping Supplies', 'Electronic Toys',\n",
       "       'Cycling Equipment', 'Dog Supplies',\n",
       "       'Shaving & Hair Removal Products', 'Plants, Seeds & Bulbs',\n",
       "       \"Girls' Accessories\", 'Televisions', 'Games & Accessories',\n",
       "       'Health Care Products', \"Kids' Dress Up & Pretend Play\", 'Artwork',\n",
       "       'Video Games', 'Arts  Crafts Supplies', 'Vacuums  Floor Care',\n",
       "       'Science Education Supplies', 'Baby & Toddler Feeding Supplies',\n",
       "       'Office Products', 'Tattooing Supplies', 'Wellness',\n",
       "       'Toy Foam Blasters  Guns', 'Handmade Furniture',\n",
       "       'Toy Gardening Equipment', 'Hi-Fi Speakers', \"Girls' Shoes\",\n",
       "       \"Kids' Play Figures\", 'External TV Tuners & Video Capture Cards',\n",
       "       'Wearable Technology', 'Arts, Crafts & Sewing Storage',\n",
       "       'Test, Measure  Inspect', 'Birthday Gifts',\n",
       "       'Home Brewing  Wine Making', 'Electrical Power Accessories',\n",
       "       \"Boys' Jewelry\", 'Irons, Steamers  Accessories',\n",
       "       'Garden Furniture & Accessories', 'Gate Hardware',\n",
       "       'Sports Nutrition Products', 'Wall Art',\n",
       "       'Remote & App-Controlled Devices', 'Guitars & Gear',\n",
       "       'Mailboxes  Accessories', 'Paint, Body  Trim Products',\n",
       "       'Xbox 360 Games, Consoles & Accessories', 'Baby Safety Products',\n",
       "       'Small Appliances', 'Bath  Body', 'Lab  Scientific Products',\n",
       "       'Baby Gifts', 'Rough Plumbing', 'Professional Medical Supplies',\n",
       "       'Outdoor Play Toys', 'Janitorial & Sanitation Supplies',\n",
       "       'Party Supplies', 'Automotive Performance Parts & Accessories',\n",
       "       'Baby  Toddler Toys', 'Gardening', 'Stationery  Party Supplies',\n",
       "       'GPS, Finders & Accessories', 'Martial Arts  Combat Sports',\n",
       "       'Bird & Wildlife Care', 'Sewing Products',\n",
       "       'Coffee, Tea & Espresso', 'Storage & Home Organisation',\n",
       "       'Craft & Hobby Fabric', 'Toy Advent Calendars',\n",
       "       'Small Animal Supplies', 'Industrial Power & Hand Tools',\n",
       "       'Air Freshener Supplies', 'Cycling Shoes',\n",
       "       'Synthesisers, Samplers & Digital Instruments', 'Cookware',\n",
       "       'Heating Cooling  Air Quality', 'Baby & Child Care Products',\n",
       "       'Power  Hand Tools', 'Agricultural Equipment & Supplies',\n",
       "       'Electrical', 'Handmade Clothing, Shoes  Accessories',\n",
       "       'Computer Screws', 'Television Projectors',\n",
       "       'Abrasive & Finishing Products', 'RV Parts  Accessories',\n",
       "       'External Sound Cards', '3D Printing & Scanning',\n",
       "       'PC Gaming Accessories', 'Swimming Pool  Outdoor Water Toys',\n",
       "       'USB Gadgets', 'Home Entertainment Furniture', 'Rain Umbrellas',\n",
       "       'Virtual Reality Hardware & Accessories',\n",
       "       'Hydraulics, Pneumatics & Plumbing', 'Power & Hand Tools',\n",
       "       'Action Cameras', 'Outdoor Lighting Products',\n",
       "       'Toy Figures & Playsets', 'Pools, Hot Tubs  Supplies',\n",
       "       'Bathroom Furniture', 'Oral Care Products', 'Automotive Care',\n",
       "       'Flashlights', 'Home Storage  Organization',\n",
       "       'Lighting & Ceiling Fans', 'Water Coolers, Filters  Cartridges',\n",
       "       'Vacuum Cleaners & Floor Care',\n",
       "       'Heavy Duty & Commercial Vehicle Equipment', 'Flashes',\n",
       "       'PA & Stage', 'Sports  Outdoors', 'Tools  Home Improvement',\n",
       "       'Mowers & Outdoor Power Tools', 'Beauty Tools  Accessories',\n",
       "       'Garden Storage & Housing', 'Plants Seeds  Bulbs',\n",
       "       'Computers, Components & Accessories',\n",
       "       \"Children's Outdoor Inflatable Bouncers  Bouncy Castles\",\n",
       "       'Home Textiles', 'Sports Fan Shop', 'Handmade Toys  Games',\n",
       "       'Bikes, Scooters  Ride-Ons',\n",
       "       'Painting Supplies, Tools & Wall Treatments', 'Ladders',\n",
       "       'Arts & Crafts', 'Additive Manufacturing Products',\n",
       "       'Door Hardware  Locks', 'Wii Games, Consoles & Accessories',\n",
       "       'Outdoor Recreation Apparel  Equipment', \"Boys' Accessories\",\n",
       "       'Fabric Decorating', \"Kids' Play Trucks\", 'Vehicle Electronics',\n",
       "       'Puppets & Puppet Theaters', 'Table Tennis', 'Golf Equipment',\n",
       "       'Bedding', 'Baby Travel Gear', 'Cushions & Accessories',\n",
       "       'Computer Printers', 'Nails, Screws  Fasteners',\n",
       "       'Craft Supplies & Materials', 'Finger Toys',\n",
       "       'Mac Games & Accessories', 'Household Cleaning', 'Monitors',\n",
       "       'Headphones, Earphones & Accessories', 'Digital Frames',\n",
       "       'Bedding & Linen', 'Pens, Pencils & Writing Supplies',\n",
       "       'Commerical Door Products', 'Household Cleaning Supplies',\n",
       "       'Boating  Watersports', 'Binoculars, Telescopes & Optics',\n",
       "       'Bathroom Linen', 'PC Games & Accessories',\n",
       "       'Automotive Tools & Equipment', 'Laptop Computers',\n",
       "       'Pumps & Plumbing Equipment', 'Hardware Adhesives  Sealers',\n",
       "       'Hydraulics, Pneumatics  Plumbing', 'Home Décor', 'Desktop PCs',\n",
       "       'Garden Tools & Watering Equipment',\n",
       "       'Paint, Wall Treatments & Supplies', 'Piano & Keyboard',\n",
       "       'Outdoor Storage  Housing', 'Outdoor Power  Lawn Equipment',\n",
       "       'Painting, Drawing & Art Supplies', 'Toy Vehicle Playsets',\n",
       "       'Beauty Tools & Accessories', 'SIM Cards', 'Cables  Accessories',\n",
       "       'Professional Education Supplies', 'Game Hardware',\n",
       "       'Outdoor Recreation', 'Kitchen Storage  Organization',\n",
       "       'Computer Hard Drive Accessories', 'Outdoor Gear',\n",
       "       'Hunting  Fishing', 'Household Batteries',\n",
       "       'Motorbike Engines & Engine Parts', 'Sex  Sensuality Products',\n",
       "       'Smartwatches', 'Games  Accessories', 'Networking Devices',\n",
       "       'Cell Phones & Accessories', 'GPS & Navigation',\n",
       "       \"Baby Girls' Clothing & Shoes\", 'Snowboard Bindings',\n",
       "       'Industrial  Scientific', 'Puzzles',\n",
       "       'Motorbike Exhaust & Exhaust Systems', 'Clocks',\n",
       "       'Bedding Collections', 'Sandboxes  Beach Toys', 'Legacy Systems',\n",
       "       'Tripods & Monopods', 'Furniture & Lighting', 'Outdoor Lighting',\n",
       "       'Memory Card Accessories', 'Bathroom Lighting',\n",
       "       'Pregnancy & Maternity Products', 'External Optical Drives',\n",
       "       'Building  Construction Toys', 'Indoor Insect  Pest Control',\n",
       "       'Laptop Accessories', 'Computer Cases', 'Video Projectors',\n",
       "       'Motorbike Batteries', 'eBook Readers & Accessories',\n",
       "       'Toilet Training Products', 'Home Audio & Theater Products',\n",
       "       'Travel Duffel Bags', 'Lab & Scientific Products',\n",
       "       'Baby Diapering Products', 'Dining Room Furniture',\n",
       "       'Electronic Components', 'Job Site Lighting',\n",
       "       'Oral Hygiene Products', 'Clothing, Shoes  Jewellery',\n",
       "       'Hi-Fi Receivers & Separates', 'Home Lighting & Ceiling Fans',\n",
       "       'Motorbike Instruments', 'Pest Control', 'Boxing Shoes',\n",
       "       'Made in Italy Handmade', 'Occupational Health & Safety Products',\n",
       "       'Locks  Hasps', 'RV Parts & Accessories', 'Kitchen & Dining',\n",
       "       'Nintendo 3DS & 2DS Consoles, Games & Accessories',\n",
       "       'Nursery Furniture, Bedding  Décor', 'Material Handling Products',\n",
       "       'Diet & Sports Nutrition', \"Kids' Play Boats\",\n",
       "       'PlayStation Vita Games, Consoles & Accessories',\n",
       "       'Pet Bird Supplies', 'Nursery Furniture, Bedding & Décor',\n",
       "       'Tennis Shoes', 'Cabinet Hardware', 'Toys  Games', 'Tableware',\n",
       "       \"Kids' Slumber Bags\", 'TV Accessories', 'Signs & Plaques',\n",
       "       'Camera & Photo', 'Car Care', 'Outdoor Rope Lights',\n",
       "       'Horse Supplies', 'Building Toys', 'Rugs, Pads & Protectors',\n",
       "       'Team Sports', \"Boys' Shoes\", \"Men's Sports & Outdoor Shoes\",\n",
       "       'Smart Home: New Smart Devices', 'Sports Toys & Outdoor',\n",
       "       'Radio Communication', 'Car Electronics & Accessories',\n",
       "       'Office Supplies', 'Bakeware', 'Mobile Phones & Communication',\n",
       "       'Scaffolding Equipment', 'Ironing & Steamers',\n",
       "       'Measuring & Layout', 'DJ & VJ Equipment', 'Dishwashing Supplies',\n",
       "       'Monitor Accessories', 'Handmade Baby Products', 'Doormats',\n",
       "       'Ironing Products', 'Child Safety Car Seats & Accessories',\n",
       "       'Handmade Stationery  Party Supplies',\n",
       "       'PlayStation 5 Consoles, Games & Accessories',\n",
       "       'Home Audio Record Players', 'Farming  Urban Agriculture',\n",
       "       'Luggage', 'Perfumes & Fragrances',\n",
       "       'Security & Surveillance Equipment',\n",
       "       'Televisions & Video Products', 'Camcorders',\n",
       "       'Video Game Consoles & Accessories', 'Mirrors',\n",
       "       'Nintendo DS Games, Consoles & Accessories', 'Ski Clothing',\n",
       "       'Stuffed Animals & Plush Toys', \"Kids' Ball Pits  Accessories\",\n",
       "       'Luxury Food & Drink', 'Oils & Fluids',\n",
       "       'Xbox One Games, Consoles & Accessories', 'Luxury Beauty',\n",
       "       \"Boys' School Uniforms\", 'Hiking Hand & Foot Warmers',\n",
       "       'Industrial & Scientific', 'Computer External Components',\n",
       "       'Sewing, Craft  Hobby', 'Hard Drive Accessories',\n",
       "       \"Kids' Play Trains & Trams\", 'Kitchen Linen',\n",
       "       'Recording & Computer', 'Personal Care Products',\n",
       "       'Test, Measure & Inspect', \"Women's Sports & Outdoor Shoes\",\n",
       "       'Home Use Medical Supplies & Equipment', 'Snowboards',\n",
       "       \"Kids' Play Buses\", 'Blank Media Cases & Wallets', 'Luggage Sets',\n",
       "       'Retail Store Fixtures & Equipment', 'Darts & Dartboards',\n",
       "       'Bedding Accessories', 'Smart Home: Voice Assistants and Hubs',\n",
       "       'Coffee & Espresso Machines', 'Computer Security Cables',\n",
       "       'Garden Structures  Germination Equipment',\n",
       "       'Mobile Phone Accessories', 'Boxes & Organisers',\n",
       "       'Baby Stationery', 'Automotive Enthusiast Merchandise',\n",
       "       \"Children's Bedding\", 'Home Office Furniture',\n",
       "       'PlayStation 3 Games, Consoles & Accessories',\n",
       "       'Smart Home: Security Cameras and Systems', 'Action Sports',\n",
       "       'Messenger Bags', 'Pogo Sticks  Hopping Toys',\n",
       "       'Thermometers & Meteorological Instruments', 'Photo Printers',\n",
       "       'Motorbike Brakes', 'Kitchen Storage & Organisation',\n",
       "       'Blu-ray Players  Recorders', 'Barware', 'Snowboard Boots',\n",
       "       'Smart Home', 'Handmade Beauty  Grooming Products',\n",
       "       'Decking & Fencing', \"Girls' Watches\",\n",
       "       'Stationery & Gift Wrapping Supplies',\n",
       "       'Exercise  Fitness Equipment', 'Suitcases', 'Cricket Shoes',\n",
       "       'Industrial Electrical', 'Bass Guitars & Gear', 'Photo Frames',\n",
       "       'Power Tools  Hand Tools', \"Kids' Play Tractors\", 'Home Fragrance',\n",
       "       'Tools & Home Improvement', 'International Food Market',\n",
       "       'Smart Home - Heating & Cooling', 'Computer Accessories',\n",
       "       'Motherboards', 'Skiing Poles',\n",
       "       'Automotive Paint & Paint Supplies', 'Film Cameras',\n",
       "       'Art & Craft Supplies', 'Vases',\n",
       "       'Smart Home: Smart Locks and Entry', 'Kitchen  Dining', 'Adapters',\n",
       "       'Smart Home: WiFi and Networking', 'Health & Household',\n",
       "       'Internal TV Tuner & Video Capture Cards', 'Home Entertainment',\n",
       "       'Hockey Shoes', 'Drums & Percussion', 'Digital Cameras',\n",
       "       'Baby Activity & Entertainment Products',\n",
       "       'Water Coolers, Filters & Cartridges',\n",
       "       'Inflatable Beds, Pillows & Accessories',\n",
       "       'General Music-Making Accessories', 'Motorbike Drive & Gears',\n",
       "       'Ski Helmets', 'Slipcovers', 'Downhill Skis', 'Handmade Bedding',\n",
       "       'Motorbike Chassis', 'Decorative Artificial Flora',\n",
       "       'Motorbike Clothing', \"Boys' Watches\",\n",
       "       'Home Brewing & Wine Making', 'Smart Home: Home Entertainment',\n",
       "       'STEM', 'Lights and switches', 'Graphics Cards',\n",
       "       'Smart Home Security & Lighting', 'Curtain & Blind Accessories',\n",
       "       'Test & Measurement', 'Decorative Home Accessories',\n",
       "       'Trampolines & Accessories', 'Internal Optical Drives',\n",
       "       'Computer & Server Racks', '3D Printers', 'Motorbike Accessories',\n",
       "       'Wind Instruments', 'Garment Bags', \"Girls' School Uniforms\",\n",
       "       'Torches', 'Outdoor Heaters & Fire Pits', 'CPUs',\n",
       "       'Window Treatments', 'Computer Memory', 'Home Bar Furniture',\n",
       "       'Smart Home: Other Solutions', 'Gifts for Him', 'Gifts for Her',\n",
       "       'Motorbike Seat Covers', 'Motorbike Boots & Luggage',\n",
       "       'Streaming Clients', 'Smart Home: Plugs and Outlets',\n",
       "       'String Instruments', 'Power Supplies',\n",
       "       'Calendars & Personal Organisers', 'Smart Home: Lawn and Garden',\n",
       "       'Ski Goggles', 'I/O Port Cards', 'Plugs', 'Candles & Holders',\n",
       "       'Smart Home: Vacuums and Mops', 'Billiard, Snooker & Pool',\n",
       "       'Smart Home: Lighting', 'Computer Memory Card Accessories',\n",
       "       'Online Video Game Services', 'Alexa Built-In Devices',\n",
       "       'Computer Servers', 'Boating Footwear', 'Golf Shoes',\n",
       "       'Smart Home Thermostats - Compatibility Checker', 'Lighting',\n",
       "       'Cameras', 'Gift Cards', 'Smart Speakers'], dtype=object)"
      ]
     },
     "execution_count": 123,
     "metadata": {},
     "output_type": "execute_result"
    }
   ],
   "source": [
    "categories = df['category_name'].unique()\n",
    "print(f'Number of categories: {len(categories)}')\n",
    "categories"
   ]
  },
  {
   "cell_type": "code",
   "execution_count": 18,
   "metadata": {},
   "outputs": [
    {
     "name": "stderr",
     "output_type": "stream",
     "text": [
      "Downloading tokenizer_config.json: 100%|██████████| 28.0/28.0 [00:00<00:00, 16.2kB/s]\n",
      "Downloading vocab.txt: 100%|██████████| 232k/232k [00:00<00:00, 3.30MB/s]\n",
      "Downloading tokenizer.json: 100%|██████████| 466k/466k [00:00<00:00, 2.95MB/s]\n",
      "Downloading config.json: 100%|██████████| 570/570 [00:00<00:00, 1.41MB/s]\n"
     ]
    }
   ],
   "source": [
    "tokenizer = BertTokenizer.from_pretrained(\"bert-base-uncased\")"
   ]
  },
  {
   "cell_type": "code",
   "execution_count": 19,
   "metadata": {},
   "outputs": [
    {
     "data": {
      "text/plain": [
       "['i', 'have', 'a', 'new', 'gp', '##u', '!']"
      ]
     },
     "execution_count": 19,
     "metadata": {},
     "output_type": "execute_result"
    }
   ],
   "source": [
    "tokenizer.tokenize(\"I have a new GPU!\")"
   ]
  },
  {
   "cell_type": "code",
   "execution_count": 124,
   "metadata": {},
   "outputs": [],
   "source": [
    "df[\"tokenized_title\"] = df[\"title\"].apply(lambda title: tokenizer.tokenize(title))"
   ]
  },
  {
   "cell_type": "code",
   "execution_count": 125,
   "metadata": {},
   "outputs": [],
   "source": [
    "df[\"category_label\"] = df[\"category_name\"].apply(lambda category: categories.tolist().index(category))"
   ]
  },
  {
   "cell_type": "code",
   "execution_count": 126,
   "metadata": {},
   "outputs": [
    {
     "data": {
      "text/html": [
       "<div>\n",
       "<style scoped>\n",
       "    .dataframe tbody tr th:only-of-type {\n",
       "        vertical-align: middle;\n",
       "    }\n",
       "\n",
       "    .dataframe tbody tr th {\n",
       "        vertical-align: top;\n",
       "    }\n",
       "\n",
       "    .dataframe thead th {\n",
       "        text-align: right;\n",
       "    }\n",
       "</style>\n",
       "<table border=\"1\" class=\"dataframe\">\n",
       "  <thead>\n",
       "    <tr style=\"text-align: right;\">\n",
       "      <th></th>\n",
       "      <th>title</th>\n",
       "      <th>category_name</th>\n",
       "      <th>tokenized_title</th>\n",
       "      <th>category_label</th>\n",
       "    </tr>\n",
       "  </thead>\n",
       "  <tbody>\n",
       "    <tr>\n",
       "      <th>1530</th>\n",
       "      <td>Mouse Skatez/Mice Feet for for ROCCAT Kone AIM...</td>\n",
       "      <td>Game Hardware</td>\n",
       "      <td>[mouse, skate, ##z, /, mice, feet, for, for, r...</td>\n",
       "      <td>468</td>\n",
       "    </tr>\n",
       "    <tr>\n",
       "      <th>1667</th>\n",
       "      <td>3 in 1 Out HD Multimedia Interface Splitter, B...</td>\n",
       "      <td>Game Hardware</td>\n",
       "      <td>[3, in, 1, out, hd, multimedia, interface, spl...</td>\n",
       "      <td>468</td>\n",
       "    </tr>\n",
       "    <tr>\n",
       "      <th>2588</th>\n",
       "      <td>Glorious Fox Switches Forge, 120 Stück, Geschm...</td>\n",
       "      <td>Game Hardware</td>\n",
       "      <td>[glorious, fox, switches, forge, ,, 120, stuck...</td>\n",
       "      <td>468</td>\n",
       "    </tr>\n",
       "    <tr>\n",
       "      <th>2692</th>\n",
       "      <td>64 Bit USB Handbrake, PC Racing Game USB Handb...</td>\n",
       "      <td>Game Hardware</td>\n",
       "      <td>[64, bit, usb, hand, ##bra, ##ke, ,, pc, racin...</td>\n",
       "      <td>468</td>\n",
       "    </tr>\n",
       "    <tr>\n",
       "      <th>3344</th>\n",
       "      <td>Dual Charging Dock Station for PS3 Move Contro...</td>\n",
       "      <td>Game Hardware</td>\n",
       "      <td>[dual, charging, dock, station, for, ps, ##3, ...</td>\n",
       "      <td>468</td>\n",
       "    </tr>\n",
       "  </tbody>\n",
       "</table>\n",
       "</div>"
      ],
      "text/plain": [
       "                                                  title  category_name  \\\n",
       "1530  Mouse Skatez/Mice Feet for for ROCCAT Kone AIM...  Game Hardware   \n",
       "1667  3 in 1 Out HD Multimedia Interface Splitter, B...  Game Hardware   \n",
       "2588  Glorious Fox Switches Forge, 120 Stück, Geschm...  Game Hardware   \n",
       "2692  64 Bit USB Handbrake, PC Racing Game USB Handb...  Game Hardware   \n",
       "3344  Dual Charging Dock Station for PS3 Move Contro...  Game Hardware   \n",
       "\n",
       "                                        tokenized_title  category_label  \n",
       "1530  [mouse, skate, ##z, /, mice, feet, for, for, r...             468  \n",
       "1667  [3, in, 1, out, hd, multimedia, interface, spl...             468  \n",
       "2588  [glorious, fox, switches, forge, ,, 120, stuck...             468  \n",
       "2692  [64, bit, usb, hand, ##bra, ##ke, ,, pc, racin...             468  \n",
       "3344  [dual, charging, dock, station, for, ps, ##3, ...             468  "
      ]
     },
     "execution_count": 126,
     "metadata": {},
     "output_type": "execute_result"
    }
   ],
   "source": [
    "df[df[\"category_name\"] == \"Game Hardware\"].head()"
   ]
  },
  {
   "cell_type": "code",
   "execution_count": 127,
   "metadata": {},
   "outputs": [],
   "source": [
    "# split the dataset into train and test\n",
    "train_df = df.sample(frac=0.8, random_state=42)\n",
    "test_df = df.drop(train_df.index)"
   ]
  },
  {
   "cell_type": "code",
   "execution_count": 128,
   "metadata": {},
   "outputs": [],
   "source": [
    "vocab_counts = defaultdict(lambda: 0)\n",
    "for tokenized_title in df[\"tokenized_title\"]:\n",
    "    for token in tokenized_title:\n",
    "        vocab_counts[token] += 1"
   ]
  },
  {
   "cell_type": "code",
   "execution_count": 129,
   "metadata": {},
   "outputs": [],
   "source": [
    "tokens_by_count = sorted([(v, i) for v, i in vocab_counts.items()], key=lambda x: x[1], reverse=True)\n",
    "tokens_by_count = [('[PAD]', 0)] + tokens_by_count  # 0 is reserved for padding\n",
    "vocab = {token: i for i, (token, _) in enumerate(tokens_by_count)}"
   ]
  },
  {
   "cell_type": "code",
   "execution_count": 131,
   "metadata": {},
   "outputs": [
    {
     "data": {
      "text/plain": [
       "23479"
      ]
     },
     "execution_count": 131,
     "metadata": {},
     "output_type": "execute_result"
    }
   ],
   "source": [
    "len(vocab)"
   ]
  },
  {
   "cell_type": "code",
   "execution_count": 132,
   "metadata": {},
   "outputs": [
    {
     "data": {
      "image/png": "[encoded data removed]",
      "text/plain": [
       "<Figure size 640x480 with 1 Axes>"
      ]
     },
     "metadata": {},
     "output_type": "display_data"
    }
   ],
   "source": [
    "plt.hist([len(tokenized_title) for tokenized_title in df[\"tokenized_title\"]], bins=100)\n",
    "plt.show()"
   ]
  },
  {
   "cell_type": "code",
   "execution_count": 133,
   "metadata": {},
   "outputs": [],
   "source": [
    "max_title_token_length = 50"
   ]
  },
  {
   "cell_type": "code",
   "execution_count": 134,
   "metadata": {},
   "outputs": [],
   "source": [
    "def get_input_tensor(df, seq_len, vocab):\n",
    "    df = df.reset_index(drop=True)\n",
    "    data_tensor = torch.zeros((len(df), seq_len), dtype=torch.long)\n",
    "    for i, row in df.iterrows():\n",
    "        title = row[\"tokenized_title\"]\n",
    "        title = title[:seq_len]\n",
    "        padded_title = title + [\"[PAD]\"] * (seq_len - len(title))\n",
    "        for j, token in enumerate(padded_title):\n",
    "            data_tensor[i][j] = vocab[token]\n",
    "    return data_tensor\n",
    "\n",
    "\n",
    "def get_label_tensor(df):\n",
    "    return torch.tensor(df[\"category_label\"].tolist())\n",
    "\n",
    "train_input_tensor = get_input_tensor(train_df, max_title_token_length, vocab)\n",
    "train_label_tensor = get_label_tensor(train_df)\n",
    "test_input_tensor = get_input_tensor(test_df, max_title_token_length, vocab)\n",
    "test_label_tensor = get_label_tensor(test_df)"
   ]
  },
  {
   "cell_type": "code",
   "execution_count": 176,
   "metadata": {},
   "outputs": [
    {
     "data": {
      "text/plain": [
       "MLPModel(\n",
       "  (embedding): Embedding(23479, 32)\n",
       "  (hidden_layers): ModuleList(\n",
       "    (0): Linear(in_features=1600, out_features=512, bias=True)\n",
       "    (1): ReLU()\n",
       "  )\n",
       "  (fc): Linear(in_features=512, out_features=726, bias=True)\n",
       ")"
      ]
     },
     "execution_count": 176,
     "metadata": {},
     "output_type": "execute_result"
    }
   ],
   "source": [
    "class MLPModel(nn.Module):\n",
    "    def __init__(self, vocab_size, embed_dim, hidden_dims, seq_length, num_classes):\n",
    "        super().__init__()\n",
    "        self.embedding = nn.Embedding(vocab_size, embed_dim)\n",
    "        hidden_layers = []\n",
    "        for fan_in_dim, fan_out_dim in zip([embed_dim * seq_length] + hidden_dims[:-1], hidden_dims):\n",
    "            hidden_layers.extend([\n",
    "                nn.Linear(fan_in_dim, fan_out_dim),\n",
    "                nn.ReLU(),\n",
    "            ])\n",
    "        self.hidden_layers = nn.ModuleList(hidden_layers)\n",
    "        fc_fan_in_dim = hidden_dims[-1] if hidden_dims else embed_dim\n",
    "        self.fc = nn.Linear(fc_fan_in_dim, num_classes)\n",
    "\n",
    "    def forward(self, x):\n",
    "        # print(f\"input shape={x.shape}\")\n",
    "        x = self.embedding(x)\n",
    "        # print(f\"embedding shape={x.shape}\")\n",
    "        x = torch.reshape(x, x.shape[:-2] + (-1,))\n",
    "        # print(f\"concated shape={x.shape}\")\n",
    "        for hidden_layer in self.hidden_layers:\n",
    "            x = hidden_layer(x)\n",
    "        # print(f\"last layer shape={x.shape}\")\n",
    "        x = self.fc(x)\n",
    "        # print(f\"output shape={x.shape}\")\n",
    "        return x\n",
    "    \n",
    "\n",
    "mlp_e32_512 = MLPModel(\n",
    "    vocab_size=len(vocab),\n",
    "    embed_dim=32,\n",
    "    hidden_dims=[512],\n",
    "    seq_length=max_title_token_length,\n",
    "    num_classes=len(categories),\n",
    ")\n",
    "\n",
    "optimizer_mlp_e32_512 = torch.optim.Adam(mlp_e32_512.parameters(), lr=0.001)\n",
    "mlp_e32_512"
   ]
  },
  {
   "cell_type": "code",
   "execution_count": 175,
   "metadata": {},
   "outputs": [],
   "source": [
    "def train(model, input_tensor, label_tensor, optimizer, epochs=1, batch_size=256):\n",
    "    loss_fn = nn.CrossEntropyLoss()\n",
    "    for epoch in range(epochs):\n",
    "        model.train()\n",
    "        start_time = time.time()\n",
    "        for i in range(0, input_tensor.shape[0], batch_size):\n",
    "            batch_input_tensor = input_tensor[i:i+batch_size]\n",
    "            # print(f\"batch_input_tensor.shape={batch_input_tensor.shape}\")\n",
    "            batch_label_tensor = label_tensor[i:i+batch_size]\n",
    "            # print(f\"batch_label_tensor.shape={batch_label_tensor.shape}\")\n",
    "            optimizer.zero_grad()\n",
    "            output = model(batch_input_tensor)\n",
    "            # print(f\"output.shape={output.shape}\")\n",
    "            loss = loss_fn(output, batch_label_tensor).mean()\n",
    "            # print(f\"loss.shape={loss.shape}\")\n",
    "            loss.backward()\n",
    "            optimizer.step()\n",
    "            # break\n",
    "            if i / batch_size % 100 == 0:\n",
    "                print(f\"Epoch {epoch} step {i / batch_size} loss: {loss.item()}\")\n",
    "        end_time = time.time()\n",
    "        print(f\"Epoch {epoch} loss: {loss.item()}  time: {(end_time - start_time):.2f}s\")\n",
    "        # break\n",
    "    return\n",
    "\n",
    "\n",
    "def eval(model, input_tensor, label_tensor):\n",
    "    model.eval()\n",
    "    with torch.no_grad():\n",
    "        output = model(input_tensor)\n",
    "        pred = output.argmax(dim=1, keepdim=True)\n",
    "        correct = pred.eq(label_tensor.view_as(pred)).type(torch.float).mean()\n",
    "    print(f\"Accuracy: {correct.item() * 100:.2f}%\")"
   ]
  },
  {
   "cell_type": "code",
   "execution_count": 187,
   "metadata": {},
   "outputs": [
    {
     "name": "stdout",
     "output_type": "stream",
     "text": [
      "Epoch 0 step 0.0 loss: 1.2104296684265137\n",
      "Epoch 0 step 100.0 loss: 1.1475733518600464\n",
      "Epoch 0 step 200.0 loss: 0.9817432165145874\n",
      "Epoch 0 step 300.0 loss: 0.9604343771934509\n",
      "Epoch 0 step 400.0 loss: 0.9006027579307556\n",
      "Epoch 0 loss: 0.32116779685020447  time: 6.51s\n"
     ]
    }
   ],
   "source": [
    "train(mlp_e32_512, train_input_tensor, train_label_tensor, optimizer_mlp_e32_512, batch_size=1024)"
   ]
  },
  {
   "cell_type": "code",
   "execution_count": 188,
   "metadata": {},
   "outputs": [
    {
     "name": "stdout",
     "output_type": "stream",
     "text": [
      "Evaluating on train set:\n",
      "Accuracy: 78.29%\n",
      "\n",
      "Evaluating on test set:\n",
      "Accuracy: 44.31%\n"
     ]
    }
   ],
   "source": [
    "print(\"Evaluating on train set:\")\n",
    "eval(mlp_e32_512, train_input_tensor, train_label_tensor)\n",
    "\n",
    "print()\n",
    "print(\"Evaluating on test set:\")\n",
    "eval(mlp_e32_512, test_input_tensor, test_label_tensor)"
   ]
  },
  {
   "cell_type": "code",
   "execution_count": 199,
   "metadata": {},
   "outputs": [
    {
     "data": {
      "text/plain": [
       "1943478"
      ]
     },
     "execution_count": 199,
     "metadata": {},
     "output_type": "execute_result"
    }
   ],
   "source": [
    "sum([p.numel() for p in mlp_e32_512.parameters()])"
   ]
  },
  {
   "cell_type": "code",
   "execution_count": null,
   "metadata": {},
   "outputs": [],
   "source": []
  }
 ],
 "metadata": {
  "kernelspec": {
   "display_name": "Python 3",
   "language": "python",
   "name": "python3"
  },
  "language_info": {
   "codemirror_mode": {
    "name": "ipython",
    "version": 3
   },
   "file_extension": ".py",
   "mimetype": "text/x-python",
   "name": "python",
   "nbconvert_exporter": "python",
   "pygments_lexer": "ipython3",
   "version": "3.9.16"
  },
  "orig_nbformat": 4
 },
 "nbformat": 4,
 "nbformat_minor": 2
}
